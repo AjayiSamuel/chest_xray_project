{
 "cells": [
  {
   "cell_type": "code",
   "execution_count": 2,
   "metadata": {
    "scrolled": true
   },
   "outputs": [
    {
     "name": "stderr",
     "output_type": "stream",
     "text": [
      "C:\\Users\\Appzone-MLG\\Anaconda3\\envs\\chest_xray_env\\lib\\site-packages\\h5py\\__init__.py:36: FutureWarning: Conversion of the second argument of issubdtype from `float` to `np.floating` is deprecated. In future, it will be treated as `np.float64 == np.dtype(float).type`.\n",
      "  from ._conv import register_converters as _register_converters\n",
      "Using TensorFlow backend.\n"
     ]
    }
   ],
   "source": [
    "from keras.models import Sequential\n",
    "from keras.layers import Conv2D, MaxPooling2D, Dropout\n",
    "from keras.layers import Flatten\n",
    "from keras.layers import Dense"
   ]
  },
  {
   "cell_type": "code",
   "execution_count": 3,
   "metadata": {},
   "outputs": [
    {
     "name": "stdout",
     "output_type": "stream",
     "text": [
      "WARNING:tensorflow:From C:\\Users\\Appzone-MLG\\Anaconda3\\envs\\chest_xray_env\\lib\\site-packages\\keras\\backend\\tensorflow_backend.py:74: The name tf.get_default_graph is deprecated. Please use tf.compat.v1.get_default_graph instead.\n",
      "\n",
      "WARNING:tensorflow:From C:\\Users\\Appzone-MLG\\Anaconda3\\envs\\chest_xray_env\\lib\\site-packages\\keras\\backend\\tensorflow_backend.py:517: The name tf.placeholder is deprecated. Please use tf.compat.v1.placeholder instead.\n",
      "\n",
      "WARNING:tensorflow:From C:\\Users\\Appzone-MLG\\Anaconda3\\envs\\chest_xray_env\\lib\\site-packages\\keras\\backend\\tensorflow_backend.py:4138: The name tf.random_uniform is deprecated. Please use tf.random.uniform instead.\n",
      "\n",
      "WARNING:tensorflow:From C:\\Users\\Appzone-MLG\\Anaconda3\\envs\\chest_xray_env\\lib\\site-packages\\keras\\backend\\tensorflow_backend.py:3976: The name tf.nn.max_pool is deprecated. Please use tf.nn.max_pool2d instead.\n",
      "\n",
      "WARNING:tensorflow:From C:\\Users\\Appzone-MLG\\Anaconda3\\envs\\chest_xray_env\\lib\\site-packages\\keras\\backend\\tensorflow_backend.py:133: The name tf.placeholder_with_default is deprecated. Please use tf.compat.v1.placeholder_with_default instead.\n",
      "\n",
      "WARNING:tensorflow:From C:\\Users\\Appzone-MLG\\Anaconda3\\envs\\chest_xray_env\\lib\\site-packages\\keras\\backend\\tensorflow_backend.py:3445: calling dropout (from tensorflow.python.ops.nn_ops) with keep_prob is deprecated and will be removed in a future version.\n",
      "Instructions for updating:\n",
      "Please use `rate` instead of `keep_prob`. Rate should be set to `rate = 1 - keep_prob`.\n",
      "WARNING:tensorflow:From C:\\Users\\Appzone-MLG\\Anaconda3\\envs\\chest_xray_env\\lib\\site-packages\\keras\\optimizers.py:790: The name tf.train.Optimizer is deprecated. Please use tf.compat.v1.train.Optimizer instead.\n",
      "\n",
      "WARNING:tensorflow:From C:\\Users\\Appzone-MLG\\Anaconda3\\envs\\chest_xray_env\\lib\\site-packages\\keras\\backend\\tensorflow_backend.py:3376: The name tf.log is deprecated. Please use tf.math.log instead.\n",
      "\n",
      "WARNING:tensorflow:From C:\\Users\\Appzone-MLG\\Anaconda3\\envs\\chest_xray_env\\lib\\site-packages\\tensorflow\\python\\ops\\nn_impl.py:180: add_dispatch_support.<locals>.wrapper (from tensorflow.python.ops.array_ops) is deprecated and will be removed in a future version.\n",
      "Instructions for updating:\n",
      "Use tf.where in 2.0, which has the same broadcast rule as np.where\n"
     ]
    }
   ],
   "source": [
    "# initializing the classfier\n",
    "classifier = Sequential()\n",
    "\n",
    "# Convolution\n",
    "classifier.add(Conv2D(32, (3, 3), input_shape = (350, 350, 1), activation = 'relu'))\n",
    "classifier.add(MaxPooling2D(pool_size = (2,2)))\n",
    "classifier.add(Dropout(0.2))\n",
    "\n",
    "classifier.add(Conv2D(64, (3, 3), activation='relu'))\n",
    "classifier.add(MaxPooling2D(pool_size=(2, 2)))\n",
    "classifier.add(Dropout(0.2))\n",
    "\n",
    "classifier.add(Conv2D(64, (3, 3), activation='relu'))\n",
    "classifier.add(MaxPooling2D(pool_size=(2, 2)))\n",
    "classifier.add(Dropout(0.2))\n",
    "\n",
    "classifier.add(Conv2D(64, (3, 3), activation='relu'))\n",
    "classifier.add(MaxPooling2D(pool_size=(2, 2)))\n",
    "classifier.add(Dropout(0.2))\n",
    "\n",
    "# Flattening\n",
    "classifier.add(Flatten())\n",
    "\n",
    "# Fully connected layer\n",
    "classifier.add(Dense(activation = 'relu', units = 128))\n",
    "classifier.add(Dropout(0.3))\n",
    "classifier.add(Dense(activation = 'relu', units = 64))\n",
    "classifier.add(Dropout(0.3))\n",
    "classifier.add(Dense(activation = 'relu', units = 64))\n",
    "classifier.add(Dropout(0.3))\n",
    "classifier.add(Dense(activation = 'sigmoid', units = 14))\n",
    "\n",
    "classifier.compile(optimizer = 'adam',\n",
    "                   loss ='binary_crossentropy',\n",
    "                   metrics = ['accuracy']\n",
    "                  )\n"
   ]
  },
  {
   "cell_type": "code",
   "execution_count": 4,
   "metadata": {},
   "outputs": [
    {
     "name": "stdout",
     "output_type": "stream",
     "text": [
      "_________________________________________________________________\n",
      "Layer (type)                 Output Shape              Param #   \n",
      "=================================================================\n",
      "conv2d_1 (Conv2D)            (None, 348, 348, 32)      320       \n",
      "_________________________________________________________________\n",
      "max_pooling2d_1 (MaxPooling2 (None, 174, 174, 32)      0         \n",
      "_________________________________________________________________\n",
      "dropout_1 (Dropout)          (None, 174, 174, 32)      0         \n",
      "_________________________________________________________________\n",
      "conv2d_2 (Conv2D)            (None, 172, 172, 64)      18496     \n",
      "_________________________________________________________________\n",
      "max_pooling2d_2 (MaxPooling2 (None, 86, 86, 64)        0         \n",
      "_________________________________________________________________\n",
      "dropout_2 (Dropout)          (None, 86, 86, 64)        0         \n",
      "_________________________________________________________________\n",
      "conv2d_3 (Conv2D)            (None, 84, 84, 64)        36928     \n",
      "_________________________________________________________________\n",
      "max_pooling2d_3 (MaxPooling2 (None, 42, 42, 64)        0         \n",
      "_________________________________________________________________\n",
      "dropout_3 (Dropout)          (None, 42, 42, 64)        0         \n",
      "_________________________________________________________________\n",
      "conv2d_4 (Conv2D)            (None, 40, 40, 64)        36928     \n",
      "_________________________________________________________________\n",
      "max_pooling2d_4 (MaxPooling2 (None, 20, 20, 64)        0         \n",
      "_________________________________________________________________\n",
      "dropout_4 (Dropout)          (None, 20, 20, 64)        0         \n",
      "_________________________________________________________________\n",
      "flatten_1 (Flatten)          (None, 25600)             0         \n",
      "_________________________________________________________________\n",
      "dense_1 (Dense)              (None, 128)               3276928   \n",
      "_________________________________________________________________\n",
      "dropout_5 (Dropout)          (None, 128)               0         \n",
      "_________________________________________________________________\n",
      "dense_2 (Dense)              (None, 64)                8256      \n",
      "_________________________________________________________________\n",
      "dropout_6 (Dropout)          (None, 64)                0         \n",
      "_________________________________________________________________\n",
      "dense_3 (Dense)              (None, 64)                4160      \n",
      "_________________________________________________________________\n",
      "dropout_7 (Dropout)          (None, 64)                0         \n",
      "_________________________________________________________________\n",
      "dense_4 (Dense)              (None, 14)                910       \n",
      "=================================================================\n",
      "Total params: 3,382,926\n",
      "Trainable params: 3,382,926\n",
      "Non-trainable params: 0\n",
      "_________________________________________________________________\n"
     ]
    }
   ],
   "source": [
    "classifier.summary()"
   ]
  },
  {
   "cell_type": "code",
   "execution_count": 5,
   "metadata": {},
   "outputs": [],
   "source": [
    "import numpy as np\n",
    "import pandas as pd\n",
    "from keras.utils import to_categorical\n",
    "from keras.preprocessing import image\n",
    "import matplotlib.pyplot as plt\n",
    "from sklearn.model_selection import train_test_split\n",
    "from tqdm import tqdm\n",
    "%matplotlib inline"
   ]
  },
  {
   "cell_type": "code",
   "execution_count": 6,
   "metadata": {},
   "outputs": [],
   "source": [
    "# to display all the columns of the dataframe in the notebook\n",
    "pd.pandas.set_option('display.max_columns', None)"
   ]
  },
  {
   "cell_type": "code",
   "execution_count": 7,
   "metadata": {},
   "outputs": [],
   "source": [
    "# Reading the csv file \n",
    "# Here we will be using a subset of the original dataset\n",
    "\n",
    "train = pd.read_csv('CheXpert-v1.0-small/train_data.csv', nrows=1000)"
   ]
  },
  {
   "cell_type": "code",
   "execution_count": 8,
   "metadata": {},
   "outputs": [
    {
     "data": {
      "text/html": [
       "<div>\n",
       "<style scoped>\n",
       "    .dataframe tbody tr th:only-of-type {\n",
       "        vertical-align: middle;\n",
       "    }\n",
       "\n",
       "    .dataframe tbody tr th {\n",
       "        vertical-align: top;\n",
       "    }\n",
       "\n",
       "    .dataframe thead th {\n",
       "        text-align: right;\n",
       "    }\n",
       "</style>\n",
       "<table border=\"1\" class=\"dataframe\">\n",
       "  <thead>\n",
       "    <tr style=\"text-align: right;\">\n",
       "      <th></th>\n",
       "      <th>path</th>\n",
       "      <th>no_finding</th>\n",
       "      <th>enlarged_cardiomediastinum</th>\n",
       "      <th>cardiomegaly</th>\n",
       "      <th>lung_opacity</th>\n",
       "      <th>lung_lesion</th>\n",
       "      <th>edema</th>\n",
       "      <th>consolidation</th>\n",
       "      <th>pneumonia</th>\n",
       "      <th>atelectasis</th>\n",
       "      <th>pneumothorax</th>\n",
       "      <th>pleural_effusion</th>\n",
       "      <th>pleural_other</th>\n",
       "      <th>fracture</th>\n",
       "      <th>support_devices</th>\n",
       "      <th>no_of_labels</th>\n",
       "    </tr>\n",
       "  </thead>\n",
       "  <tbody>\n",
       "    <tr>\n",
       "      <th>0</th>\n",
       "      <td>CheXpert-v1.0-small/train/patient00001/study1/...</td>\n",
       "      <td>1.0</td>\n",
       "      <td>0.0</td>\n",
       "      <td>0.0</td>\n",
       "      <td>0.0</td>\n",
       "      <td>0.0</td>\n",
       "      <td>0.0</td>\n",
       "      <td>0.0</td>\n",
       "      <td>0.0</td>\n",
       "      <td>0.0</td>\n",
       "      <td>0.0</td>\n",
       "      <td>0.0</td>\n",
       "      <td>0.0</td>\n",
       "      <td>0.0</td>\n",
       "      <td>1.0</td>\n",
       "      <td>1.0</td>\n",
       "    </tr>\n",
       "    <tr>\n",
       "      <th>1</th>\n",
       "      <td>CheXpert-v1.0-small/train/patient00002/study2/...</td>\n",
       "      <td>0.0</td>\n",
       "      <td>0.0</td>\n",
       "      <td>0.0</td>\n",
       "      <td>1.0</td>\n",
       "      <td>0.0</td>\n",
       "      <td>0.0</td>\n",
       "      <td>0.0</td>\n",
       "      <td>0.0</td>\n",
       "      <td>0.0</td>\n",
       "      <td>0.0</td>\n",
       "      <td>0.0</td>\n",
       "      <td>0.0</td>\n",
       "      <td>1.0</td>\n",
       "      <td>0.0</td>\n",
       "      <td>2.0</td>\n",
       "    </tr>\n",
       "    <tr>\n",
       "      <th>2</th>\n",
       "      <td>CheXpert-v1.0-small/train/patient00002/study1/...</td>\n",
       "      <td>0.0</td>\n",
       "      <td>0.0</td>\n",
       "      <td>0.0</td>\n",
       "      <td>1.0</td>\n",
       "      <td>0.0</td>\n",
       "      <td>0.0</td>\n",
       "      <td>0.0</td>\n",
       "      <td>0.0</td>\n",
       "      <td>0.0</td>\n",
       "      <td>0.0</td>\n",
       "      <td>0.0</td>\n",
       "      <td>0.0</td>\n",
       "      <td>1.0</td>\n",
       "      <td>0.0</td>\n",
       "      <td>2.0</td>\n",
       "    </tr>\n",
       "    <tr>\n",
       "      <th>3</th>\n",
       "      <td>CheXpert-v1.0-small/train/patient00002/study1/...</td>\n",
       "      <td>0.0</td>\n",
       "      <td>0.0</td>\n",
       "      <td>0.0</td>\n",
       "      <td>1.0</td>\n",
       "      <td>0.0</td>\n",
       "      <td>0.0</td>\n",
       "      <td>0.0</td>\n",
       "      <td>0.0</td>\n",
       "      <td>0.0</td>\n",
       "      <td>0.0</td>\n",
       "      <td>0.0</td>\n",
       "      <td>0.0</td>\n",
       "      <td>1.0</td>\n",
       "      <td>0.0</td>\n",
       "      <td>2.0</td>\n",
       "    </tr>\n",
       "    <tr>\n",
       "      <th>4</th>\n",
       "      <td>CheXpert-v1.0-small/train/patient00003/study1/...</td>\n",
       "      <td>0.0</td>\n",
       "      <td>0.0</td>\n",
       "      <td>0.0</td>\n",
       "      <td>0.0</td>\n",
       "      <td>0.0</td>\n",
       "      <td>1.0</td>\n",
       "      <td>0.0</td>\n",
       "      <td>0.0</td>\n",
       "      <td>0.0</td>\n",
       "      <td>0.0</td>\n",
       "      <td>0.0</td>\n",
       "      <td>0.0</td>\n",
       "      <td>0.0</td>\n",
       "      <td>0.0</td>\n",
       "      <td>1.0</td>\n",
       "    </tr>\n",
       "  </tbody>\n",
       "</table>\n",
       "</div>"
      ],
      "text/plain": [
       "                                                path  no_finding  \\\n",
       "0  CheXpert-v1.0-small/train/patient00001/study1/...         1.0   \n",
       "1  CheXpert-v1.0-small/train/patient00002/study2/...         0.0   \n",
       "2  CheXpert-v1.0-small/train/patient00002/study1/...         0.0   \n",
       "3  CheXpert-v1.0-small/train/patient00002/study1/...         0.0   \n",
       "4  CheXpert-v1.0-small/train/patient00003/study1/...         0.0   \n",
       "\n",
       "   enlarged_cardiomediastinum  cardiomegaly  lung_opacity  lung_lesion  edema  \\\n",
       "0                         0.0           0.0           0.0          0.0    0.0   \n",
       "1                         0.0           0.0           1.0          0.0    0.0   \n",
       "2                         0.0           0.0           1.0          0.0    0.0   \n",
       "3                         0.0           0.0           1.0          0.0    0.0   \n",
       "4                         0.0           0.0           0.0          0.0    1.0   \n",
       "\n",
       "   consolidation  pneumonia  atelectasis  pneumothorax  pleural_effusion  \\\n",
       "0            0.0        0.0          0.0           0.0               0.0   \n",
       "1            0.0        0.0          0.0           0.0               0.0   \n",
       "2            0.0        0.0          0.0           0.0               0.0   \n",
       "3            0.0        0.0          0.0           0.0               0.0   \n",
       "4            0.0        0.0          0.0           0.0               0.0   \n",
       "\n",
       "   pleural_other  fracture  support_devices  no_of_labels  \n",
       "0            0.0       0.0              1.0           1.0  \n",
       "1            0.0       1.0              0.0           2.0  \n",
       "2            0.0       1.0              0.0           2.0  \n",
       "3            0.0       1.0              0.0           2.0  \n",
       "4            0.0       0.0              0.0           1.0  "
      ]
     },
     "execution_count": 8,
     "metadata": {},
     "output_type": "execute_result"
    }
   ],
   "source": [
    "train.head()"
   ]
  },
  {
   "cell_type": "code",
   "execution_count": 65,
   "metadata": {},
   "outputs": [
    {
     "name": "stderr",
     "output_type": "stream",
     "text": [
      "100%|█████████████████████████████████████████████████████████████████████████████| 1000/1000 [00:02<00:00, 463.55it/s]\n"
     ]
    }
   ],
   "source": [
    "# loading and preprocessing \n",
    "train_image = []\n",
    "for i in tqdm(range(train.shape[0])):\n",
    "    img = image.load_img(''+train['path'][i]+'', target_size=(350, 350, 1), color_mode = \"grayscale\")\n",
    "    img = image.img_to_array(img)\n",
    "    img = img/255\n",
    "    train_image.append(img)\n",
    "X = np.array(train_image)"
   ]
  },
  {
   "cell_type": "code",
   "execution_count": 66,
   "metadata": {},
   "outputs": [],
   "source": [
    "# X.shape"
   ]
  },
  {
   "cell_type": "code",
   "execution_count": 67,
   "metadata": {},
   "outputs": [],
   "source": [
    "# X[0]"
   ]
  },
  {
   "cell_type": "code",
   "execution_count": 69,
   "metadata": {},
   "outputs": [],
   "source": [
    "# plt.imshow(X[0], cmap='gray')\n",
    "# plt.imshow(X[2], cmap='gray')"
   ]
  },
  {
   "cell_type": "code",
   "execution_count": 34,
   "metadata": {},
   "outputs": [
    {
     "data": {
      "text/plain": [
       "(1000, 14)"
      ]
     },
     "execution_count": 34,
     "metadata": {},
     "output_type": "execute_result"
    }
   ],
   "source": [
    "# Extracting the Onehot encoded label\n",
    "y = np.array(train.drop(['path', 'no_of_labels'],axis=1))\n",
    "y.shape"
   ]
  },
  {
   "cell_type": "code",
   "execution_count": 70,
   "metadata": {},
   "outputs": [],
   "source": [
    "X_train, X_test, y_train, y_test = train_test_split(X, y, random_state=0, test_size=0.1)"
   ]
  },
  {
   "cell_type": "code",
   "execution_count": 72,
   "metadata": {},
   "outputs": [
    {
     "name": "stdout",
     "output_type": "stream",
     "text": [
      "Train on 900 samples, validate on 100 samples\n",
      "Epoch 1/50\n",
      "900/900 [==============================] - 6s 7ms/step - loss: 0.3330 - acc: 0.8637 - val_loss: 0.3689 - val_acc: 0.8407: 1s - loss: 0.3328 - acc: 0.86 - ETA: 0s - loss: 0.3330 - acc: 0.\n",
      "Epoch 2/50\n",
      "900/900 [==============================] - 5s 6ms/step - loss: 0.3272 - acc: 0.8646 - val_loss: 0.3682 - val_acc: 0.8379\n",
      "Epoch 3/50\n",
      "900/900 [==============================] - 6s 6ms/step - loss: 0.3186 - acc: 0.8688 - val_loss: 0.3677 - val_acc: 0.8379\n",
      "Epoch 4/50\n",
      "900/900 [==============================] - 6s 6ms/step - loss: 0.3153 - acc: 0.8693 - val_loss: 0.3699 - val_acc: 0.8329\n",
      "Epoch 5/50\n",
      "900/900 [==============================] - 5s 6ms/step - loss: 0.3046 - acc: 0.8740 - val_loss: 0.3656 - val_acc: 0.8329\n",
      "Epoch 6/50\n",
      "900/900 [==============================] - 5s 6ms/step - loss: 0.2999 - acc: 0.8765 - val_loss: 0.3707 - val_acc: 0.8421\n",
      "Epoch 7/50\n",
      "900/900 [==============================] - 5s 6ms/step - loss: 0.2965 - acc: 0.8763 - val_loss: 0.3712 - val_acc: 0.8393s: 0.2949 - \n",
      "Epoch 8/50\n",
      "900/900 [==============================] - 6s 6ms/step - loss: 0.2869 - acc: 0.8809 - val_loss: 0.3722 - val_acc: 0.8400\n",
      "Epoch 9/50\n",
      "900/900 [==============================] - 5s 6ms/step - loss: 0.2787 - acc: 0.8848 - val_loss: 0.3747 - val_acc: 0.8371\n",
      "Epoch 10/50\n",
      "900/900 [==============================] - 6s 6ms/step - loss: 0.2756 - acc: 0.8846 - val_loss: 0.3847 - val_acc: 0.8421\n",
      "Epoch 11/50\n",
      "900/900 [==============================] - 6s 6ms/step - loss: 0.2750 - acc: 0.8863 - val_loss: 0.3732 - val_acc: 0.8379\n",
      "Epoch 12/50\n",
      "900/900 [==============================] - 6s 6ms/step - loss: 0.2613 - acc: 0.8907 - val_loss: 0.3897 - val_acc: 0.8343\n",
      "Epoch 13/50\n",
      "900/900 [==============================] - 6s 6ms/step - loss: 0.2541 - acc: 0.8951 - val_loss: 0.3916 - val_acc: 0.8236\n",
      "Epoch 14/50\n",
      "900/900 [==============================] - 6s 6ms/step - loss: 0.2450 - acc: 0.9004 - val_loss: 0.3956 - val_acc: 0.8343\n",
      "Epoch 15/50\n",
      "900/900 [==============================] - 6s 6ms/step - loss: 0.2510 - acc: 0.8955 - val_loss: 0.3914 - val_acc: 0.83791 - acc: 0.8\n",
      "Epoch 16/50\n",
      "900/900 [==============================] - 6s 6ms/step - loss: 0.2435 - acc: 0.8988 - val_loss: 0.4008 - val_acc: 0.8293\n",
      "Epoch 17/50\n",
      "900/900 [==============================] - 6s 6ms/step - loss: 0.2337 - acc: 0.9010 - val_loss: 0.4026 - val_acc: 0.8286\n",
      "Epoch 18/50\n",
      "900/900 [==============================] - 6s 6ms/step - loss: 0.2318 - acc: 0.9009 - val_loss: 0.3960 - val_acc: 0.8321\n",
      "Epoch 19/50\n",
      "900/900 [==============================] - 6s 6ms/step - loss: 0.2242 - acc: 0.9063 - val_loss: 0.4142 - val_acc: 0.8300\n",
      "Epoch 20/50\n",
      "900/900 [==============================] - 6s 6ms/step - loss: 0.2213 - acc: 0.9087 - val_loss: 0.4084 - val_acc: 0.8300\n",
      "Epoch 21/50\n",
      "900/900 [==============================] - 5s 6ms/step - loss: 0.2182 - acc: 0.9078 - val_loss: 0.4132 - val_acc: 0.8307\n",
      "Epoch 22/50\n",
      "900/900 [==============================] - 6s 6ms/step - loss: 0.2181 - acc: 0.9092 - val_loss: 0.4271 - val_acc: 0.8257\n",
      "Epoch 23/50\n",
      "900/900 [==============================] - 6s 6ms/step - loss: 0.2163 - acc: 0.9123 - val_loss: 0.4084 - val_acc: 0.8243\n",
      "Epoch 24/50\n",
      "900/900 [==============================] - 6s 6ms/step - loss: 0.2069 - acc: 0.9138 - val_loss: 0.4238 - val_acc: 0.8286\n",
      "Epoch 25/50\n",
      "900/900 [==============================] - 6s 6ms/step - loss: 0.2036 - acc: 0.9146 - val_loss: 0.4174 - val_acc: 0.8243TA: 4s - lo\n",
      "Epoch 26/50\n",
      "900/900 [==============================] - 6s 6ms/step - loss: 0.1995 - acc: 0.9168 - val_loss: 0.4365 - val_acc: 0.8229\n",
      "Epoch 27/50\n",
      "900/900 [==============================] - 6s 6ms/step - loss: 0.2016 - acc: 0.9154 - val_loss: 0.4386 - val_acc: 0.8286\n",
      "Epoch 28/50\n",
      "900/900 [==============================] - 6s 6ms/step - loss: 0.1904 - acc: 0.9198 - val_loss: 0.4603 - val_acc: 0.8243\n",
      "Epoch 29/50\n",
      "900/900 [==============================] - 6s 6ms/step - loss: 0.1953 - acc: 0.9189 - val_loss: 0.4457 - val_acc: 0.8271\n",
      "Epoch 30/50\n",
      "900/900 [==============================] - 6s 6ms/step - loss: 0.1908 - acc: 0.9201 - val_loss: 0.4426 - val_acc: 0.8214\n",
      "Epoch 31/50\n",
      "900/900 [==============================] - 6s 6ms/step - loss: 0.1852 - acc: 0.9235 - val_loss: 0.4674 - val_acc: 0.8264\n",
      "Epoch 32/50\n",
      "900/900 [==============================] - 6s 6ms/step - loss: 0.1916 - acc: 0.9198 - val_loss: 0.4513 - val_acc: 0.8157: 3s - loss: \n",
      "Epoch 33/50\n",
      "900/900 [==============================] - 6s 6ms/step - loss: 0.1863 - acc: 0.9236 - val_loss: 0.4510 - val_acc: 0.8236\n",
      "Epoch 34/50\n",
      "900/900 [==============================] - 5s 6ms/step - loss: 0.1818 - acc: 0.9236 - val_loss: 0.4381 - val_acc: 0.8250\n",
      "Epoch 35/50\n",
      "900/900 [==============================] - 6s 6ms/step - loss: 0.1800 - acc: 0.9263 - val_loss: 0.4556 - val_acc: 0.8221\n",
      "Epoch 36/50\n",
      "900/900 [==============================] - 6s 6ms/step - loss: 0.1819 - acc: 0.9249 - val_loss: 0.4861 - val_acc: 0.8171\n",
      "Epoch 37/50\n",
      "900/900 [==============================] - 6s 6ms/step - loss: 0.1799 - acc: 0.9266 - val_loss: 0.4595 - val_acc: 0.8250\n",
      "Epoch 38/50\n",
      "900/900 [==============================] - 6s 6ms/step - loss: 0.1737 - acc: 0.9284 - val_loss: 0.4723 - val_acc: 0.8193\n",
      "Epoch 39/50\n",
      "900/900 [==============================] - 6s 6ms/step - loss: 0.1733 - acc: 0.9286 - val_loss: 0.4703 - val_acc: 0.8236\n",
      "Epoch 40/50\n",
      "900/900 [==============================] - 6s 6ms/step - loss: 0.1746 - acc: 0.9285 - val_loss: 0.4568 - val_acc: 0.8236\n",
      "Epoch 41/50\n",
      "900/900 [==============================] - 6s 6ms/step - loss: 0.1783 - acc: 0.9222 - val_loss: 0.4432 - val_acc: 0.8336\n",
      "Epoch 42/50\n",
      "900/900 [==============================] - 6s 6ms/step - loss: 0.1688 - acc: 0.9296 - val_loss: 0.4813 - val_acc: 0.8214\n",
      "Epoch 43/50\n",
      "900/900 [==============================] - 6s 6ms/step - loss: 0.1676 - acc: 0.9300 - val_loss: 0.4745 - val_acc: 0.8214\n",
      "Epoch 44/50\n",
      "900/900 [==============================] - 6s 6ms/step - loss: 0.1649 - acc: 0.9321 - val_loss: 0.4843 - val_acc: 0.8207\n",
      "Epoch 45/50\n",
      "900/900 [==============================] - 6s 6ms/step - loss: 0.1680 - acc: 0.9306 - val_loss: 0.4816 - val_acc: 0.8236\n",
      "Epoch 46/50\n",
      "900/900 [==============================] - 6s 6ms/step - loss: 0.1650 - acc: 0.9332 - val_loss: 0.5087 - val_acc: 0.8221\n",
      "Epoch 47/50\n",
      "900/900 [==============================] - 5s 6ms/step - loss: 0.1600 - acc: 0.9326 - val_loss: 0.4883 - val_acc: 0.8200\n",
      "Epoch 48/50\n",
      "900/900 [==============================] - 6s 6ms/step - loss: 0.1555 - acc: 0.9370 - val_loss: 0.5058 - val_acc: 0.8171\n",
      "Epoch 49/50\n",
      "900/900 [==============================] - 6s 6ms/step - loss: 0.1582 - acc: 0.9360 - val_loss: 0.4765 - val_acc: 0.8157\n",
      "Epoch 50/50\n",
      "900/900 [==============================] - 6s 6ms/step - loss: 0.1610 - acc: 0.9337 - val_loss: 0.4800 - val_acc: 0.8221\n"
     ]
    },
    {
     "data": {
      "text/plain": [
       "<keras.callbacks.History at 0x172030c5be0>"
      ]
     },
     "execution_count": 72,
     "metadata": {},
     "output_type": "execute_result"
    }
   ],
   "source": [
    "classifier.fit(X_train, y_train, epochs=50, validation_data=(X_test, y_test), batch_size=32)"
   ]
  },
  {
   "cell_type": "code",
   "execution_count": 73,
   "metadata": {},
   "outputs": [],
   "source": [
    "# Using image generators\n",
    "from keras.preprocessing.image import ImageDataGenerator"
   ]
  },
  {
   "cell_type": "code",
   "execution_count": 87,
   "metadata": {},
   "outputs": [
    {
     "name": "stdout",
     "output_type": "stream",
     "text": [
      "Found 1600 validated image filenames.\n",
      "Found 234 validated image filenames.\n",
      "Epoch 1/50\n",
      "50/50 [==============================] - 21s 428ms/step - loss: 0.3518 - acc: 0.8546 - val_loss: 0.4492 - val_acc: 0.8016\n",
      "Epoch 2/50\n",
      "50/50 [==============================] - 19s 372ms/step - loss: 0.3448 - acc: 0.8550 - val_loss: 0.4485 - val_acc: 0.7943\n",
      "Epoch 3/50\n",
      "50/50 [==============================] - 20s 391ms/step - loss: 0.3400 - acc: 0.8590 - val_loss: 0.4495 - val_acc: 0.7988\n",
      "Epoch 4/50\n",
      "50/50 [==============================] - 21s 419ms/step - loss: 0.3367 - acc: 0.8575 - val_loss: 0.4495 - val_acc: 0.7988\n",
      "Epoch 5/50\n",
      "50/50 [==============================] - 19s 378ms/step - loss: 0.3331 - acc: 0.8621 - val_loss: 0.4494 - val_acc: 0.7955\n",
      "Epoch 6/50\n",
      "50/50 [==============================] - 20s 405ms/step - loss: 0.3315 - acc: 0.8616 - val_loss: 0.4436 - val_acc: 0.7949\n",
      "Epoch 7/50\n",
      "50/50 [==============================] - 23s 460ms/step - loss: 0.3258 - acc: 0.8655 - val_loss: 0.4668 - val_acc: 0.7903\n",
      "Epoch 8/50\n",
      "50/50 [==============================] - 22s 442ms/step - loss: 0.3257 - acc: 0.8639 - val_loss: 0.4565 - val_acc: 0.7985\n",
      "Epoch 9/50\n",
      "50/50 [==============================] - 22s 439ms/step - loss: 0.3225 - acc: 0.8639 - val_loss: 0.4530 - val_acc: 0.7970\n",
      "Epoch 10/50\n",
      "50/50 [==============================] - 22s 444ms/step - loss: 0.3189 - acc: 0.8676 - val_loss: 0.4548 - val_acc: 0.7973\n",
      "Epoch 11/50\n",
      "50/50 [==============================] - 20s 410ms/step - loss: 0.3165 - acc: 0.8680 - val_loss: 0.4474 - val_acc: 0.7991\n",
      "Epoch 12/50\n",
      "50/50 [==============================] - 21s 414ms/step - loss: 0.3182 - acc: 0.8701 - val_loss: 0.4534 - val_acc: 0.7967\n",
      "Epoch 13/50\n",
      "50/50 [==============================] - 24s 484ms/step - loss: 0.3124 - acc: 0.8707 - val_loss: 0.4603 - val_acc: 0.7949\n",
      "Epoch 14/50\n",
      "50/50 [==============================] - 21s 429ms/step - loss: 0.3133 - acc: 0.8695 - val_loss: 0.4457 - val_acc: 0.7973\n",
      "Epoch 15/50\n",
      "50/50 [==============================] - 21s 418ms/step - loss: 0.3113 - acc: 0.8699 - val_loss: 0.4588 - val_acc: 0.7909\n",
      "Epoch 16/50\n",
      "50/50 [==============================] - 22s 447ms/step - loss: 0.3066 - acc: 0.8746 - val_loss: 0.4504 - val_acc: 0.7967\n",
      "Epoch 17/50\n",
      "50/50 [==============================] - 22s 448ms/step - loss: 0.3064 - acc: 0.8729 - val_loss: 0.4742 - val_acc: 0.7967\n",
      "Epoch 18/50\n",
      "50/50 [==============================] - 21s 418ms/step - loss: 0.3036 - acc: 0.8737 - val_loss: 0.4429 - val_acc: 0.8013\n",
      "Epoch 19/50\n",
      "50/50 [==============================] - 25s 502ms/step - loss: 0.2951 - acc: 0.8793 - val_loss: 0.4680 - val_acc: 0.7967\n",
      "Epoch 20/50\n",
      "50/50 [==============================] - 22s 446ms/step - loss: 0.2971 - acc: 0.8769 - val_loss: 0.4658 - val_acc: 0.7982\n",
      "Epoch 21/50\n",
      "50/50 [==============================] - 23s 455ms/step - loss: 0.2954 - acc: 0.8779 - val_loss: 0.4575 - val_acc: 0.8001\n",
      "Epoch 22/50\n",
      "50/50 [==============================] - 22s 443ms/step - loss: 0.2952 - acc: 0.8768 - val_loss: 0.4536 - val_acc: 0.7967\n",
      "Epoch 23/50\n",
      "50/50 [==============================] - 22s 430ms/step - loss: 0.2912 - acc: 0.8776 - val_loss: 0.4522 - val_acc: 0.8019\n",
      "Epoch 24/50\n",
      "50/50 [==============================] - 22s 443ms/step - loss: 0.2891 - acc: 0.8788 - val_loss: 0.4577 - val_acc: 0.7973\n",
      "Epoch 25/50\n",
      "50/50 [==============================] - 24s 490ms/step - loss: 0.2892 - acc: 0.8789 - val_loss: 0.4457 - val_acc: 0.8019\n",
      "Epoch 26/50\n",
      "50/50 [==============================] - 22s 448ms/step - loss: 0.2893 - acc: 0.8812 - val_loss: 0.4598 - val_acc: 0.7988\n",
      "Epoch 27/50\n",
      "50/50 [==============================] - 23s 451ms/step - loss: 0.2832 - acc: 0.8843 - val_loss: 0.4636 - val_acc: 0.8004\n",
      "Epoch 28/50\n",
      "50/50 [==============================] - 22s 439ms/step - loss: 0.2816 - acc: 0.8836 - val_loss: 0.4603 - val_acc: 0.8040\n",
      "Epoch 29/50\n",
      "50/50 [==============================] - 23s 459ms/step - loss: 0.2828 - acc: 0.8828 - val_loss: 0.4855 - val_acc: 0.7930\n",
      "Epoch 30/50\n",
      "50/50 [==============================] - 27s 546ms/step - loss: 0.2769 - acc: 0.8850 - val_loss: 0.4673 - val_acc: 0.8001\n",
      "Epoch 31/50\n",
      "50/50 [==============================] - 22s 439ms/step - loss: 0.2778 - acc: 0.8848 - val_loss: 0.4704 - val_acc: 0.7991\n",
      "Epoch 32/50\n",
      "50/50 [==============================] - 25s 496ms/step - loss: 0.2740 - acc: 0.8865 - val_loss: 0.4699 - val_acc: 0.7967\n",
      "Epoch 33/50\n",
      "50/50 [==============================] - 23s 469ms/step - loss: 0.2811 - acc: 0.8836 - val_loss: 0.4776 - val_acc: 0.8004\n",
      "Epoch 34/50\n",
      "50/50 [==============================] - 22s 442ms/step - loss: 0.2702 - acc: 0.8892 - val_loss: 0.4916 - val_acc: 0.7921\n",
      "Epoch 35/50\n",
      "50/50 [==============================] - 26s 516ms/step - loss: 0.2726 - acc: 0.8867 - val_loss: 0.4825 - val_acc: 0.7976\n",
      "Epoch 36/50\n",
      "50/50 [==============================] - 23s 463ms/step - loss: 0.2689 - acc: 0.8900 - val_loss: 0.4751 - val_acc: 0.7946\n",
      "Epoch 37/50\n",
      "50/50 [==============================] - 22s 437ms/step - loss: 0.2663 - acc: 0.8904 - val_loss: 0.4806 - val_acc: 0.7952\n",
      "Epoch 38/50\n",
      "50/50 [==============================] - 21s 429ms/step - loss: 0.2679 - acc: 0.8899 - val_loss: 0.4863 - val_acc: 0.7903\n",
      "Epoch 39/50\n",
      "50/50 [==============================] - 24s 475ms/step - loss: 0.2620 - acc: 0.8921 - val_loss: 0.4872 - val_acc: 0.7958\n",
      "Epoch 40/50\n",
      "50/50 [==============================] - 22s 435ms/step - loss: 0.2623 - acc: 0.8910 - val_loss: 0.4965 - val_acc: 0.7988\n",
      "Epoch 41/50\n",
      "50/50 [==============================] - 21s 413ms/step - loss: 0.2607 - acc: 0.8923 - val_loss: 0.4765 - val_acc: 0.8016\n",
      "Epoch 42/50\n",
      "50/50 [==============================] - 21s 422ms/step - loss: 0.2619 - acc: 0.8906 - val_loss: 0.4744 - val_acc: 0.7964\n",
      "Epoch 43/50\n",
      "50/50 [==============================] - 23s 468ms/step - loss: 0.2540 - acc: 0.8955 - val_loss: 0.4955 - val_acc: 0.7943\n",
      "Epoch 44/50\n",
      "50/50 [==============================] - 23s 468ms/step - loss: 0.2597 - acc: 0.8936 - val_loss: 0.4931 - val_acc: 0.7961\n",
      "Epoch 45/50\n",
      "50/50 [==============================] - 22s 434ms/step - loss: 0.2535 - acc: 0.8949 - val_loss: 0.4866 - val_acc: 0.7918\n",
      "Epoch 46/50\n",
      "50/50 [==============================] - 21s 423ms/step - loss: 0.2519 - acc: 0.8960 - val_loss: 0.4801 - val_acc: 0.7952\n",
      "Epoch 47/50\n",
      "50/50 [==============================] - 22s 442ms/step - loss: 0.2556 - acc: 0.8963 - val_loss: 0.4789 - val_acc: 0.7979\n",
      "Epoch 48/50\n",
      "50/50 [==============================] - 25s 503ms/step - loss: 0.2466 - acc: 0.8982 - val_loss: 0.5077 - val_acc: 0.7900\n",
      "Epoch 49/50\n",
      "50/50 [==============================] - 26s 510ms/step - loss: 0.2483 - acc: 0.8971 - val_loss: 0.4933 - val_acc: 0.7958\n",
      "Epoch 50/50\n",
      "50/50 [==============================] - 25s 492ms/step - loss: 0.2499 - acc: 0.8951 - val_loss: 0.4839 - val_acc: 0.8004\n"
     ]
    },
    {
     "data": {
      "text/plain": [
       "<keras.callbacks.History at 0x17202e84b38>"
      ]
     },
     "execution_count": 87,
     "metadata": {},
     "output_type": "execute_result"
    }
   ],
   "source": [
    "train_df = pd.read_csv(\"CheXpert-v1.0-small/train_data.csv\", nrows=1600)\n",
    "valid_df = pd.read_csv(\"CheXpert-v1.0-small/valid.csv\")\n",
    "\n",
    "train_datagen = ImageDataGenerator(\n",
    "        rescale=1./255,\n",
    "        zoom_range=0.2,\n",
    "        horizontal_flip=False)\n",
    "\n",
    "test_datagen = ImageDataGenerator(rescale=1./255)\n",
    "\n",
    "train_generator = train_datagen.flow_from_dataframe(\n",
    "        dataframe=train_df,\n",
    "        directory=None,\n",
    "        x_col=\"path\",\n",
    "        y_col=['no_finding',\n",
    "               'enlarged_cardiomediastinum',\n",
    "               'cardiomegaly',\n",
    "               'lung_opacity',\n",
    "               'lung_lesion',\n",
    "               'edema',\n",
    "               'consolidation',\n",
    "               'pneumonia',\n",
    "               'atelectasis',\n",
    "               'pneumothorax',\n",
    "               'pleural_effusion',\n",
    "               'pleural_other',\n",
    "               'fracture',\n",
    "               'support_devices'\n",
    "               ],\n",
    "        color_mode=\"grayscale\",\n",
    "        target_size=(350, 350),\n",
    "        batch_size=32,\n",
    "#         class_mode=\"multi_output\",\n",
    "        class_mode=\"raw\",\n",
    ")\n",
    "\n",
    "validation_generator = test_datagen.flow_from_dataframe(\n",
    "        dataframe=valid_df,\n",
    "        directory=None,\n",
    "        x_col=\"Path\",\n",
    "        y_col=['No Finding',\n",
    "               'Enlarged Cardiomediastinum',\n",
    "               'Cardiomegaly',\n",
    "               'Lung Opacity',\n",
    "               'Lung Lesion',\n",
    "               'Edema',\n",
    "               'Consolidation',\n",
    "               'Pneumonia',\n",
    "               'Atelectasis',\n",
    "               'Pneumothorax',\n",
    "               'Pleural Effusion',\n",
    "               'Pleural Other',\n",
    "               'Fracture',\n",
    "               'Support Devices'\n",
    "              ],\n",
    "        color_mode=\"grayscale\",\n",
    "        target_size=(350, 350),\n",
    "        batch_size=128,\n",
    "        class_mode=\"raw\")\n",
    "\n",
    "classifier.fit_generator(\n",
    "        train_generator,\n",
    "        steps_per_epoch=50,\n",
    "        epochs=50,\n",
    "        validation_data=validation_generator,\n",
    "        validation_steps=2)\n",
    "\n",
    "# Validation has 235 images\n",
    "\n",
    "# model.fit_generator(train_generator,\n",
    "#                     #epochs = 3, we will use epoch after I implement data arguementation\n",
    "#                     steps_per_epoch = 75,\n",
    "#                     validation_data = validation_generator,\n",
    "#                     validation_steps = 2\n",
    "#                    )"
   ]
  },
  {
   "cell_type": "code",
   "execution_count": 89,
   "metadata": {},
   "outputs": [],
   "source": [
    "# Single preds\n",
    "\n",
    "from keras.preprocessing import image "
   ]
  },
  {
   "cell_type": "code",
   "execution_count": 107,
   "metadata": {},
   "outputs": [],
   "source": [
    "test_image = image.load_img('CheXpert-v1.0-small/valid/patient64740/study1/view1_frontal.jpg',\n",
    "                            target_size = (350, 350),\n",
    "                            color_mode= 'grayscale'\n",
    "                           )"
   ]
  },
  {
   "cell_type": "code",
   "execution_count": 108,
   "metadata": {},
   "outputs": [
    {
     "name": "stdout",
     "output_type": "stream",
     "text": [
      "<PIL.Image.Image image mode=L size=350x350 at 0x17202CF9CF8>\n"
     ]
    }
   ],
   "source": [
    "print(test_image)"
   ]
  },
  {
   "cell_type": "code",
   "execution_count": 109,
   "metadata": {},
   "outputs": [],
   "source": [
    "test_image_arr = image.img_to_array(test_image)"
   ]
  },
  {
   "cell_type": "code",
   "execution_count": 110,
   "metadata": {},
   "outputs": [],
   "source": [
    "# test_image_arr.shape"
   ]
  },
  {
   "cell_type": "code",
   "execution_count": 111,
   "metadata": {},
   "outputs": [],
   "source": [
    "test_image_arr = np.expand_dims(test_image_arr, axis = 0)"
   ]
  },
  {
   "cell_type": "code",
   "execution_count": 112,
   "metadata": {},
   "outputs": [
    {
     "data": {
      "text/plain": [
       "array([[0.9999999, 0.       , 0.       , 0.       , 0.       , 0.       ,\n",
       "        0.       , 0.       , 0.       , 0.       , 0.       , 0.       ,\n",
       "        0.       , 0.       ]], dtype=float32)"
      ]
     },
     "execution_count": 112,
     "metadata": {},
     "output_type": "execute_result"
    }
   ],
   "source": [
    "classifier.predict(test_image_arr)"
   ]
  },
  {
   "cell_type": "code",
   "execution_count": null,
   "metadata": {},
   "outputs": [],
   "source": []
  }
 ],
 "metadata": {
  "kernelspec": {
   "display_name": "Python 3",
   "language": "python",
   "name": "python3"
  },
  "language_info": {
   "codemirror_mode": {
    "name": "ipython",
    "version": 3
   },
   "file_extension": ".py",
   "mimetype": "text/x-python",
   "name": "python",
   "nbconvert_exporter": "python",
   "pygments_lexer": "ipython3",
   "version": "3.6.9"
  }
 },
 "nbformat": 4,
 "nbformat_minor": 2
}
