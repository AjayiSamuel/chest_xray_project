{
 "cells": [
  {
   "cell_type": "code",
   "execution_count": 3,
   "metadata": {},
   "outputs": [],
   "source": [
    "import numpy as np\n",
    "import pandas as pd\n",
    "from keras import layers\n",
    "from keras.layers import Input, Add, Dense, Activation, ZeroPadding2D, BatchNormalization, Flatten, Conv2D, AveragePooling2D, MaxPooling2D, GlobalMaxPooling2D, Dropout\n",
    "from keras.models import Model, load_model\n",
    "from keras.preprocessing import image\n",
    "from keras.utils import layer_utils\n",
    "from keras.utils.data_utils import get_file\n",
    "from keras.applications.imagenet_utils import preprocess_input\n",
    "from keras.preprocessing.image import ImageDataGenerator\n",
    "from keras.callbacks import ModelCheckpoint, TensorBoard\n",
    "import pydot\n",
    "from IPython.display import SVG\n",
    "from keras.utils.vis_utils import model_to_dot\n",
    "from keras.utils import plot_model\n",
    "from resnets_utils import *\n",
    "from keras.initializers import glorot_uniform\n",
    "import scipy.misc\n",
    "from matplotlib.pyplot import imshow\n",
    "%matplotlib inline\n",
    "\n",
    "import keras.backend as K\n",
    "import time\n",
    "import pickle\n",
    "K.set_image_data_format('channels_last')\n",
    "K.set_learning_phase(1)"
   ]
  },
  {
   "cell_type": "markdown",
   "metadata": {},
   "source": [
    "### loading the dataset"
   ]
  },
  {
   "cell_type": "code",
   "execution_count": 4,
   "metadata": {},
   "outputs": [],
   "source": [
    "def load_data(size=1000):\n",
    "    train_df = pd.read_csv(\"CheXpert-v1.0-small/train_data.csv\", nrows=size)\n",
    "    valid_df = pd.read_csv(\"CheXpert-v1.0-small/valid.csv\")\n",
    "\n",
    "    train_datagen = ImageDataGenerator(\n",
    "            rescale=1./255,\n",
    "            zoom_range=0.2,\n",
    "            horizontal_flip=False)\n",
    "\n",
    "    test_datagen = ImageDataGenerator(rescale=1./255)\n",
    "\n",
    "    train_generator = train_datagen.flow_from_dataframe(\n",
    "            dataframe=train_df,\n",
    "            directory=None,\n",
    "            x_col=\"path\",\n",
    "            y_col=['no_finding',\n",
    "                   'enlarged_cardiomediastinum',\n",
    "                   'cardiomegaly',\n",
    "                   'lung_opacity',\n",
    "                   'lung_lesion',\n",
    "                   'edema',\n",
    "                   'consolidation',\n",
    "                   'pneumonia',\n",
    "                   'atelectasis',\n",
    "                   'pneumothorax',\n",
    "                   'pleural_effusion',\n",
    "                   'pleural_other',\n",
    "                   'fracture',\n",
    "                   'support_devices'\n",
    "                   ],\n",
    "            color_mode=\"grayscale\",\n",
    "            target_size=(128, 128),\n",
    "            batch_size=32,\n",
    "            shuffle=False,\n",
    "            class_mode=\"raw\"\n",
    "    )\n",
    "\n",
    "    validation_generator = test_datagen.flow_from_dataframe(\n",
    "            dataframe=valid_df,\n",
    "            directory=None,\n",
    "            x_col=\"Path\",\n",
    "            y_col=['No Finding',\n",
    "                   'Enlarged Cardiomediastinum',\n",
    "                   'Cardiomegaly',\n",
    "                   'Lung Opacity',\n",
    "                   'Lung Lesion',\n",
    "                   'Edema',\n",
    "                   'Consolidation',\n",
    "                   'Pneumonia',\n",
    "                   'Atelectasis',\n",
    "                   'Pneumothorax',\n",
    "                   'Pleural Effusion',\n",
    "                   'Pleural Other',\n",
    "                   'Fracture',\n",
    "                   'Support Devices'\n",
    "                  ],\n",
    "            color_mode=\"grayscale\",\n",
    "            target_size=(128, 128),\n",
    "            batch_size=128,\n",
    "            class_mode=\"raw\",\n",
    "            shuffle=False\n",
    "    )\n",
    "    \n",
    "    return train_generator, validation_generator"
   ]
  },
  {
   "cell_type": "code",
   "execution_count": 5,
   "metadata": {},
   "outputs": [
    {
     "name": "stdout",
     "output_type": "stream",
     "text": [
      "Found 3200 validated image filenames.\n",
      "Found 234 validated image filenames.\n"
     ]
    }
   ],
   "source": [
    "# load data with 2000 rows\n",
    "train_generator, validation_generator = load_data(size=3200)"
   ]
  },
  {
   "cell_type": "markdown",
   "metadata": {},
   "source": [
    "### Creating the ResNet Archiecture Identity block"
   ]
  },
  {
   "cell_type": "code",
   "execution_count": 6,
   "metadata": {},
   "outputs": [],
   "source": [
    "def identity_block(X, f, filters, stage, block):\n",
    "    \"\"\"\n",
    "    Implementation of the identity block as defined in Figure 3\n",
    "    \n",
    "    Arguments:\n",
    "    X -- input tensor of shape (m, n_H_prev, n_W_prev, n_C_prev)\n",
    "    f -- integer, specifying the shape of the middle CONV's window for the main path\n",
    "    filters -- python list of integers, defining the number of filters in the CONV layers of the main path\n",
    "    stage -- integer, used to name the layers, depending on their position in the network\n",
    "    block -- string/character, used to name the layers, depending on their position in the network\n",
    "    \n",
    "    Returns:\n",
    "    X -- output of the identity block, tensor of shape (n_H, n_W, n_C)\n",
    "    \"\"\"\n",
    "    \n",
    "    # defining name basis\n",
    "    conv_name_base = 'res' + str(stage) + block + '_branch'\n",
    "    bn_name_base = 'bn' + str(stage) + block + '_branch'\n",
    "    \n",
    "    # Retrieve Filters\n",
    "    F1, F2, F3 = filters\n",
    "    \n",
    "    # Save the input value. You'll need this later to add back to the main path. \n",
    "    X_shortcut = X\n",
    "    \n",
    "    # First component of main path\n",
    "    X = Conv2D(filters = F1, kernel_size = (1, 1), strides = (1,1), padding = 'valid', name = conv_name_base + '2a', kernel_initializer = glorot_uniform(seed=0))(X)\n",
    "    X = BatchNormalization(axis = 3, name = bn_name_base + '2a')(X)\n",
    "    X = Activation('relu')(X)\n",
    "\n",
    "    \n",
    "    # Second component of main path (≈3 lines)\n",
    "    X = Conv2D(filters = F2, kernel_size = (f, f), strides = (1,1), padding = 'same', name = conv_name_base + '2b', kernel_initializer = glorot_uniform(seed=0))(X)\n",
    "    X = BatchNormalization(axis = 3, name = bn_name_base + '2b')(X)\n",
    "    X = Activation('relu')(X)\n",
    "\n",
    "    # Third component of main path (≈2 lines)\n",
    "    X = Conv2D(filters = F3, kernel_size = (1, 1), strides = (1,1), padding = 'valid', name = conv_name_base + '2c', kernel_initializer = glorot_uniform(seed=0))(X)\n",
    "    X = BatchNormalization(axis = 3, name = bn_name_base + '2c')(X)\n",
    "\n",
    "    # Final step: Add shortcut value to main path, and pass it through a RELU activation (≈2 lines)\n",
    "    X = Add()([X, X_shortcut])\n",
    "    X = Activation('relu')(X)\n",
    "    \n",
    "    \n",
    "    return X"
   ]
  },
  {
   "cell_type": "code",
   "execution_count": 7,
   "metadata": {},
   "outputs": [],
   "source": [
    "def convolutional_block(X, f, filters, stage, block, s = 2):\n",
    "    \"\"\"\n",
    "    Implementation of the convolutional block as defined in Figure 4\n",
    "    \n",
    "    Arguments:\n",
    "    X -- input tensor of shape (m, n_H_prev, n_W_prev, n_C_prev)\n",
    "    f -- integer, specifying the shape of the middle CONV's window for the main path\n",
    "    filters -- python list of integers, defining the number of filters in the CONV layers of the main path\n",
    "    stage -- integer, used to name the layers, depending on their position in the network\n",
    "    block -- string/character, used to name the layers, depending on their position in the network\n",
    "    s -- Integer, specifying the stride to be used\n",
    "    \n",
    "    Returns:\n",
    "    X -- output of the convolutional block, tensor of shape (n_H, n_W, n_C)\n",
    "    \"\"\"\n",
    "    \n",
    "    # defining name basis\n",
    "    conv_name_base = 'res' + str(stage) + block + '_branch'\n",
    "    bn_name_base = 'bn' + str(stage) + block + '_branch'\n",
    "    \n",
    "    # Retrieve Filters\n",
    "    F1, F2, F3 = filters\n",
    "    \n",
    "    # Save the input value\n",
    "    X_shortcut = X\n",
    "\n",
    "\n",
    "    ##### MAIN PATH #####\n",
    "    # First component of main path \n",
    "    X = Conv2D(F1, (1, 1), strides = (s,s), name = conv_name_base + '2a', kernel_initializer = glorot_uniform(seed=0))(X)\n",
    "    X = BatchNormalization(axis = 3, name = bn_name_base + '2a')(X)\n",
    "    X = Activation('relu')(X)\n",
    "\n",
    "    # Second component of main path (≈3 lines)\n",
    "    X = Conv2D(filters = F2, kernel_size = (f, f), strides = (1,1), padding = 'same', name = conv_name_base + '2b', kernel_initializer = glorot_uniform(seed=0))(X)\n",
    "    X = BatchNormalization(axis = 3, name = bn_name_base + '2b')(X)\n",
    "    X = Activation('relu')(X)\n",
    "\n",
    "\n",
    "    # Third component of main path (≈2 lines)\n",
    "    X = Conv2D(filters = F3, kernel_size = (1, 1), strides = (1,1), padding = 'valid', name = conv_name_base + '2c', kernel_initializer = glorot_uniform(seed=0))(X)\n",
    "    X = BatchNormalization(axis = 3, name = bn_name_base + '2c')(X)\n",
    "\n",
    "\n",
    "    ##### SHORTCUT PATH #### (≈2 lines)\n",
    "    X_shortcut = Conv2D(filters = F3, kernel_size = (1, 1), strides = (s,s), padding = 'valid', name = conv_name_base + '1',\n",
    "                        kernel_initializer = glorot_uniform(seed=0))(X_shortcut)\n",
    "    X_shortcut = BatchNormalization(axis = 3, name = bn_name_base + '1')(X_shortcut)\n",
    "\n",
    "    # Final step: Add shortcut value to main path, and pass it through a RELU activation (≈2 lines)\n",
    "    X = Add()([X, X_shortcut])\n",
    "    X = Activation('relu')(X)\n",
    "    \n",
    "    \n",
    "    return X"
   ]
  },
  {
   "cell_type": "markdown",
   "metadata": {},
   "source": [
    "### Implementing the ResNet50 model"
   ]
  },
  {
   "cell_type": "code",
   "execution_count": 8,
   "metadata": {},
   "outputs": [],
   "source": [
    "def ResNet50(input_shape=(64, 64, 1), classes=14):\n",
    "    \"\"\"\n",
    "    Implementation of the popular ResNet50 the following architecture:\n",
    "    CONV2D -> BATCHNORM -> RELU -> MAXPOOL -> CONVBLOCK -> IDBLOCK*2 -> CONVBLOCK -> IDBLOCK*3\n",
    "    -> CONVBLOCK -> IDBLOCK*5 -> CONVBLOCK -> IDBLOCK*2 -> AVGPOOL -> TOPLAYER\n",
    "\n",
    "    Arguments:\n",
    "    input_shape -- shape of the images of the dataset\n",
    "    classes -- integer, number of classes\n",
    "\n",
    "    Returns:\n",
    "    model -- a Model() instance in Keras\n",
    "    \"\"\"\n",
    "\n",
    "    # Define the input as a tensor with shape input_shape\n",
    "    X_input = Input(input_shape)\n",
    "\n",
    "    # Zero-Padding\n",
    "    X = ZeroPadding2D((3, 3))(X_input)\n",
    "\n",
    "    # Stage 1\n",
    "    X = Conv2D(64, (7, 7), strides=(2, 2), name='conv1', kernel_initializer=glorot_uniform(seed=0))(X)\n",
    "    X = BatchNormalization(axis=3, name='bn_conv1')(X)\n",
    "    X = Activation('relu')(X)\n",
    "    X = MaxPooling2D((3, 3), strides=(2, 2))(X)\n",
    "\n",
    "    # Stage 2\n",
    "    X = convolutional_block(X, f=3, filters=[64, 64, 256], stage=2, block='a', s=1)\n",
    "    X = identity_block(X, 3, [64, 64, 256], stage=2, block='b')\n",
    "    X = identity_block(X, 3, [64, 64, 256], stage=2, block='c')\n",
    "\n",
    "    ### START CODE HERE ###\n",
    "\n",
    "    # Stage 3 (≈4 lines)\n",
    "    X = convolutional_block(X, f = 3, filters = [128, 128, 512], stage = 3, block='a', s = 2)\n",
    "    X = identity_block(X, 3, [128, 128, 512], stage=3, block='b')\n",
    "    X = identity_block(X, 3, [128, 128, 512], stage=3, block='c')\n",
    "    X = identity_block(X, 3, [128, 128, 512], stage=3, block='d')\n",
    "\n",
    "    # Stage 4 (≈6 lines)\n",
    "    X = convolutional_block(X, f = 3, filters = [256, 256, 1024], stage = 4, block='a', s = 2)\n",
    "    X = identity_block(X, 3, [256, 256, 1024], stage=4, block='b')\n",
    "    X = identity_block(X, 3, [256, 256, 1024], stage=4, block='c')\n",
    "    X = identity_block(X, 3, [256, 256, 1024], stage=4, block='d')\n",
    "    X = identity_block(X, 3, [256, 256, 1024], stage=4, block='e')\n",
    "    X = identity_block(X, 3, [256, 256, 1024], stage=4, block='f')\n",
    "\n",
    "    # Stage 5 (≈3 lines)\n",
    "    X = convolutional_block(X, f = 3, filters = [512, 512, 2048], stage = 5, block='a', s = 2)\n",
    "    X = identity_block(X, 3, [512, 512, 2048], stage=5, block='b')\n",
    "    X = identity_block(X, 3, [512, 512, 2048], stage=5, block='c')\n",
    "\n",
    "    # AVGPOOL (≈1 line). Use \"X = AveragePooling2D(...)(X)\"\n",
    "    X = AveragePooling2D((2,2), name=\"avg_pool\")(X)\n",
    "\n",
    "    ### END CODE HERE ###\n",
    "\n",
    "    # output layer\n",
    "    X = Flatten()(X)\n",
    "\n",
    "    X = Dense(classes, activation='softmax', name='fc' + str(classes), kernel_initializer = glorot_uniform(seed=0))(X)\n",
    "    \n",
    "    \n",
    "    # Create model\n",
    "    model = Model(inputs = X_input, outputs = X, name='ResNet50')\n",
    "\n",
    "    return model"
   ]
  },
  {
   "cell_type": "code",
   "execution_count": null,
   "metadata": {},
   "outputs": [],
   "source": [
    "print(\"My Custom ResNet50 model:\")\n",
    "plot_model(ResNet50(), to_file='custom-resnet-50.png', show_shapes=True, show_layer_names=True)"
   ]
  },
  {
   "cell_type": "code",
   "execution_count": 9,
   "metadata": {},
   "outputs": [
    {
     "name": "stdout",
     "output_type": "stream",
     "text": [
      "WARNING:tensorflow:From C:\\Users\\Appzone-MLG\\Anaconda3\\envs\\chest_xray_env\\lib\\site-packages\\keras\\backend\\tensorflow_backend.py:517: The name tf.placeholder is deprecated. Please use tf.compat.v1.placeholder instead.\n",
      "\n",
      "WARNING:tensorflow:From C:\\Users\\Appzone-MLG\\Anaconda3\\envs\\chest_xray_env\\lib\\site-packages\\keras\\backend\\tensorflow_backend.py:4138: The name tf.random_uniform is deprecated. Please use tf.random.uniform instead.\n",
      "\n",
      "WARNING:tensorflow:From C:\\Users\\Appzone-MLG\\Anaconda3\\envs\\chest_xray_env\\lib\\site-packages\\keras\\backend\\tensorflow_backend.py:174: The name tf.get_default_session is deprecated. Please use tf.compat.v1.get_default_session instead.\n",
      "\n",
      "WARNING:tensorflow:From C:\\Users\\Appzone-MLG\\Anaconda3\\envs\\chest_xray_env\\lib\\site-packages\\keras\\backend\\tensorflow_backend.py:181: The name tf.ConfigProto is deprecated. Please use tf.compat.v1.ConfigProto instead.\n",
      "\n",
      "WARNING:tensorflow:From C:\\Users\\Appzone-MLG\\Anaconda3\\envs\\chest_xray_env\\lib\\site-packages\\keras\\backend\\tensorflow_backend.py:1834: The name tf.nn.fused_batch_norm is deprecated. Please use tf.compat.v1.nn.fused_batch_norm instead.\n",
      "\n",
      "WARNING:tensorflow:From C:\\Users\\Appzone-MLG\\Anaconda3\\envs\\chest_xray_env\\lib\\site-packages\\keras\\backend\\tensorflow_backend.py:3976: The name tf.nn.max_pool is deprecated. Please use tf.nn.max_pool2d instead.\n",
      "\n",
      "WARNING:tensorflow:From C:\\Users\\Appzone-MLG\\Anaconda3\\envs\\chest_xray_env\\lib\\site-packages\\keras\\backend\\tensorflow_backend.py:3980: The name tf.nn.avg_pool is deprecated. Please use tf.nn.avg_pool2d instead.\n",
      "\n",
      "WARNING:tensorflow:From C:\\Users\\Appzone-MLG\\Anaconda3\\envs\\chest_xray_env\\lib\\site-packages\\keras\\optimizers.py:790: The name tf.train.Optimizer is deprecated. Please use tf.compat.v1.train.Optimizer instead.\n",
      "\n",
      "WARNING:tensorflow:From C:\\Users\\Appzone-MLG\\Anaconda3\\envs\\chest_xray_env\\lib\\site-packages\\tensorflow\\python\\ops\\nn_impl.py:180: add_dispatch_support.<locals>.wrapper (from tensorflow.python.ops.array_ops) is deprecated and will be removed in a future version.\n",
      "Instructions for updating:\n",
      "Use tf.where in 2.0, which has the same broadcast rule as np.where\n"
     ]
    }
   ],
   "source": [
    "resnet_50 = ResNet50(input_shape = (128, 128, 1), classes = 14)\n",
    "\n",
    "resnet_50.compile(optimizer='adam', \n",
    "              loss='binary_crossentropy', \n",
    "              metrics=['accuracy']\n",
    "             )"
   ]
  },
  {
   "cell_type": "code",
   "execution_count": 10,
   "metadata": {},
   "outputs": [],
   "source": [
    "# filepath contains location for storing keras models with the lowwest loss function after every 10 epoch\n",
    "filepath=\"models/weights-resnet50-size-3200-{epoch:02d}-{val_loss:.2f}-{val_acc:.2f}.hdf5\"\n",
    "tensor_log_name = f\"resnet50-3200-dataset-{int(time.time())}\"\n",
    "checkpoint = ModelCheckpoint(filepath, \n",
    "                             monitor='val_loss', \n",
    "                             verbose=1, \n",
    "                             save_best_only=True, \n",
    "                             mode='min',\n",
    "                             period=10\n",
    "                            )\n",
    "#                           save_freq=5\n",
    "\n",
    "tensorboard = TensorBoard(log_dir = f'logs/{tensor_log_name}', histogram_freq=0, batch_size=32)"
   ]
  },
  {
   "cell_type": "code",
   "execution_count": 11,
   "metadata": {},
   "outputs": [
    {
     "name": "stdout",
     "output_type": "stream",
     "text": [
      "WARNING:tensorflow:From C:\\Users\\Appzone-MLG\\Anaconda3\\envs\\chest_xray_env\\lib\\site-packages\\keras\\callbacks.py:850: The name tf.summary.merge_all is deprecated. Please use tf.compat.v1.summary.merge_all instead.\n",
      "\n",
      "WARNING:tensorflow:From C:\\Users\\Appzone-MLG\\Anaconda3\\envs\\chest_xray_env\\lib\\site-packages\\keras\\callbacks.py:853: The name tf.summary.FileWriter is deprecated. Please use tf.compat.v1.summary.FileWriter instead.\n",
      "\n",
      "Epoch 1/50\n",
      "100/100 [==============================] - 30s 295ms/step - loss: 0.9481 - acc: 0.8300 - val_loss: 0.9414 - val_acc: 0.7824\n",
      "Epoch 2/50\n",
      "100/100 [==============================] - 21s 207ms/step - loss: 0.6103 - acc: 0.8340 - val_loss: 0.6819 - val_acc: 0.7885\n",
      "Epoch 3/50\n",
      "100/100 [==============================] - 21s 207ms/step - loss: 0.5110 - acc: 0.8361 - val_loss: 0.5995 - val_acc: 0.7863\n",
      "Epoch 4/50\n",
      "100/100 [==============================] - 21s 207ms/step - loss: 0.6630 - acc: 0.8339 - val_loss: 0.7241 - val_acc: 0.7875\n",
      "Epoch 5/50\n",
      "100/100 [==============================] - 21s 207ms/step - loss: 0.5596 - acc: 0.8376 - val_loss: 0.7079 - val_acc: 0.7885\n",
      "Epoch 6/50\n",
      "100/100 [==============================] - 21s 207ms/step - loss: 0.5574 - acc: 0.8355 - val_loss: 0.8381 - val_acc: 0.7909\n",
      "Epoch 7/50\n",
      "100/100 [==============================] - 21s 207ms/step - loss: 0.6259 - acc: 0.8343 - val_loss: 0.8191 - val_acc: 0.7875\n",
      "Epoch 8/50\n",
      "100/100 [==============================] - 21s 207ms/step - loss: 0.5840 - acc: 0.8353 - val_loss: 0.6679 - val_acc: 0.7882\n",
      "Epoch 9/50\n",
      "100/100 [==============================] - 21s 207ms/step - loss: 0.5419 - acc: 0.8361 - val_loss: 0.7164 - val_acc: 0.7891\n",
      "Epoch 10/50\n",
      "100/100 [==============================] - 21s 207ms/step - loss: 0.5682 - acc: 0.8343 - val_loss: 0.6444 - val_acc: 0.7888\n",
      "\n",
      "Epoch 00010: val_loss improved from inf to 0.64443, saving model to models/weights-resnet50-size-3200-10-0.64-0.79.hdf5\n",
      "Epoch 11/50\n",
      "100/100 [==============================] - 21s 207ms/step - loss: 0.5365 - acc: 0.8362 - val_loss: 0.6723 - val_acc: 0.7875\n",
      "Epoch 12/50\n",
      "100/100 [==============================] - 21s 207ms/step - loss: 0.5271 - acc: 0.8369 - val_loss: 0.6629 - val_acc: 0.7875\n",
      "Epoch 13/50\n",
      "100/100 [==============================] - 21s 208ms/step - loss: 0.4961 - acc: 0.8370 - val_loss: 0.6336 - val_acc: 0.7888\n",
      "Epoch 14/50\n",
      "100/100 [==============================] - 21s 207ms/step - loss: 0.5159 - acc: 0.8366 - val_loss: 0.6613 - val_acc: 0.7872\n",
      "Epoch 15/50\n",
      "100/100 [==============================] - 21s 207ms/step - loss: 0.5110 - acc: 0.8365 - val_loss: 0.6545 - val_acc: 0.7875\n",
      "Epoch 16/50\n",
      "100/100 [==============================] - 21s 207ms/step - loss: 0.5615 - acc: 0.8350 - val_loss: 0.6777 - val_acc: 0.7879\n",
      "Epoch 17/50\n",
      "100/100 [==============================] - 21s 207ms/step - loss: 0.5330 - acc: 0.8348 - val_loss: 0.6452 - val_acc: 0.7869\n",
      "Epoch 18/50\n",
      "100/100 [==============================] - 21s 207ms/step - loss: 0.5264 - acc: 0.8356 - val_loss: 0.6691 - val_acc: 0.7863\n",
      "Epoch 19/50\n",
      "100/100 [==============================] - 21s 215ms/step - loss: 0.5268 - acc: 0.8345 - val_loss: 0.6758 - val_acc: 0.7869\n",
      "Epoch 20/50\n",
      "100/100 [==============================] - 21s 215ms/step - loss: 0.4916 - acc: 0.8353 - val_loss: 0.5837 - val_acc: 0.7885\n",
      "\n",
      "Epoch 00020: val_loss improved from 0.64443 to 0.58370, saving model to models/weights-resnet50-size-3200-20-0.58-0.79.hdf5\n",
      "Epoch 21/50\n",
      "100/100 [==============================] - 21s 213ms/step - loss: 0.4259 - acc: 0.8369 - val_loss: 0.5747 - val_acc: 0.7891\n",
      "Epoch 22/50\n",
      "100/100 [==============================] - 21s 208ms/step - loss: 0.4169 - acc: 0.8374 - val_loss: 0.5743 - val_acc: 0.7888\n",
      "Epoch 23/50\n",
      "100/100 [==============================] - 22s 215ms/step - loss: 0.4139 - acc: 0.8373 - val_loss: 0.5757 - val_acc: 0.7888\n",
      "Epoch 24/50\n",
      "100/100 [==============================] - 22s 216ms/step - loss: 0.4126 - acc: 0.8375 - val_loss: 0.5771 - val_acc: 0.7891\n",
      "Epoch 25/50\n",
      "100/100 [==============================] - 22s 217ms/step - loss: 0.4119 - acc: 0.8374 - val_loss: 0.5796 - val_acc: 0.7891\n",
      "Epoch 26/50\n",
      "100/100 [==============================] - 22s 215ms/step - loss: 0.4110 - acc: 0.8374 - val_loss: 0.5790 - val_acc: 0.7891\n",
      "Epoch 27/50\n",
      "100/100 [==============================] - 21s 209ms/step - loss: 0.4108 - acc: 0.8375 - val_loss: 0.5784 - val_acc: 0.7891\n",
      "Epoch 28/50\n",
      "100/100 [==============================] - 21s 208ms/step - loss: 0.4107 - acc: 0.8374 - val_loss: 0.5755 - val_acc: 0.7888\n",
      "Epoch 29/50\n",
      "100/100 [==============================] - 22s 215ms/step - loss: 0.4087 - acc: 0.8375 - val_loss: 0.5768 - val_acc: 0.7891\n",
      "Epoch 30/50\n",
      "100/100 [==============================] - 21s 209ms/step - loss: 0.4088 - acc: 0.8374 - val_loss: 0.5760 - val_acc: 0.7891\n",
      "\n",
      "Epoch 00030: val_loss improved from 0.58370 to 0.57604, saving model to models/weights-resnet50-size-3200-30-0.58-0.79.hdf5\n",
      "Epoch 31/50\n",
      "100/100 [==============================] - 21s 214ms/step - loss: 0.4076 - acc: 0.8375 - val_loss: 0.5813 - val_acc: 0.7891\n",
      "Epoch 32/50\n",
      "100/100 [==============================] - 22s 221ms/step - loss: 0.4071 - acc: 0.8373 - val_loss: 0.5789 - val_acc: 0.7891\n",
      "Epoch 33/50\n",
      "100/100 [==============================] - 23s 226ms/step - loss: 0.4054 - acc: 0.8375 - val_loss: 0.5766 - val_acc: 0.7891\n",
      "Epoch 34/50\n",
      "100/100 [==============================] - 23s 230ms/step - loss: 0.4049 - acc: 0.8375 - val_loss: 0.5819 - val_acc: 0.7891\n",
      "Epoch 35/50\n",
      "100/100 [==============================] - 21s 208ms/step - loss: 0.4042 - acc: 0.8373 - val_loss: 0.5760 - val_acc: 0.7891\n",
      "Epoch 36/50\n",
      "100/100 [==============================] - 22s 217ms/step - loss: 0.4038 - acc: 0.8376 - val_loss: 0.5728 - val_acc: 0.7891\n",
      "Epoch 37/50\n",
      "100/100 [==============================] - 23s 230ms/step - loss: 0.4030 - acc: 0.8376 - val_loss: 0.5737 - val_acc: 0.7891\n",
      "Epoch 38/50\n",
      "100/100 [==============================] - 22s 215ms/step - loss: 0.4023 - acc: 0.8374 - val_loss: 0.5728 - val_acc: 0.7891\n",
      "Epoch 39/50\n",
      "100/100 [==============================] - 21s 208ms/step - loss: 0.4018 - acc: 0.8374 - val_loss: 0.5798 - val_acc: 0.7891\n",
      "Epoch 40/50\n",
      "100/100 [==============================] - 22s 215ms/step - loss: 0.4010 - acc: 0.8374 - val_loss: 0.5757 - val_acc: 0.7891\n",
      "\n",
      "Epoch 00040: val_loss improved from 0.57604 to 0.57573, saving model to models/weights-resnet50-size-3200-40-0.58-0.79.hdf5\n",
      "Epoch 41/50\n",
      "100/100 [==============================] - 21s 213ms/step - loss: 0.4003 - acc: 0.8375 - val_loss: 0.5738 - val_acc: 0.7891\n",
      "Epoch 42/50\n",
      "100/100 [==============================] - 21s 209ms/step - loss: 0.3999 - acc: 0.8374 - val_loss: 0.5797 - val_acc: 0.7891\n",
      "Epoch 43/50\n",
      "100/100 [==============================] - 24s 238ms/step - loss: 0.3995 - acc: 0.8374 - val_loss: 0.5758 - val_acc: 0.7888\n",
      "Epoch 44/50\n",
      "100/100 [==============================] - 21s 211ms/step - loss: 0.3992 - acc: 0.8375 - val_loss: 0.5749 - val_acc: 0.7891\n",
      "Epoch 45/50\n",
      "100/100 [==============================] - 22s 217ms/step - loss: 0.3978 - acc: 0.8374 - val_loss: 0.5761 - val_acc: 0.7891\n",
      "Epoch 46/50\n",
      "100/100 [==============================] - 23s 234ms/step - loss: 0.3981 - acc: 0.8376 - val_loss: 0.5769 - val_acc: 0.7891\n",
      "Epoch 47/50\n",
      "100/100 [==============================] - 22s 223ms/step - loss: 0.3966 - acc: 0.8373 - val_loss: 0.5850 - val_acc: 0.7891\n",
      "Epoch 48/50\n",
      "100/100 [==============================] - 22s 216ms/step - loss: 0.3968 - acc: 0.8375 - val_loss: 0.5772 - val_acc: 0.7891\n",
      "Epoch 49/50\n",
      "100/100 [==============================] - 21s 209ms/step - loss: 0.3957 - acc: 0.8376 - val_loss: 0.5753 - val_acc: 0.7891\n",
      "Epoch 50/50\n",
      "100/100 [==============================] - 22s 217ms/step - loss: 0.3967 - acc: 0.8374 - val_loss: 0.5772 - val_acc: 0.7891\n",
      "\n",
      "Epoch 00050: val_loss did not improve from 0.57573\n",
      "--- 1131.0450937747955 seconds ---\n"
     ]
    }
   ],
   "source": [
    "start_time = time.time()\n",
    "\n",
    "resnet_50_history = resnet_50.fit_generator(\n",
    "        train_generator,    \n",
    "        steps_per_epoch=100,\n",
    "        epochs=50,\n",
    "        validation_data=validation_generator,\n",
    "        validation_steps=2,\n",
    "        callbacks=[checkpoint, tensorboard]\n",
    ")\n",
    "\n",
    "print(\"--- %s seconds ---\" % (time.time() - start_time))"
   ]
  },
  {
   "cell_type": "code",
   "execution_count": 12,
   "metadata": {},
   "outputs": [
    {
     "data": {
      "image/png": "[encoded data removed]",
      "text/plain": [
       "<Figure size 432x288 with 1 Axes>"
      ]
     },
     "metadata": {
      "needs_background": "light"
     },
     "output_type": "display_data"
    }
   ],
   "source": [
    "import matplotlib.pyplot as plt\n",
    "\n",
    "# Plot history: MAE\n",
    "plt.plot(resnet_50_history.history['loss'], label='loss (training data)')\n",
    "plt.plot(resnet_50_history.history['val_loss'], label='loss (validation data)')\n",
    "plt.title('Loss for Chest Xray dataset with resnet 50')\n",
    "plt.ylabel('Loss value')\n",
    "plt.xlabel('No. epoch')\n",
    "plt.legend(loc=\"upper left\")\n",
    "plt.show()"
   ]
  },
  {
   "cell_type": "code",
   "execution_count": 13,
   "metadata": {},
   "outputs": [
    {
     "data": {
      "image/png": "[encoded data removed]",
      "text/plain": [
       "<Figure size 432x288 with 1 Axes>"
      ]
     },
     "metadata": {
      "needs_background": "light"
     },
     "output_type": "display_data"
    }
   ],
   "source": [
    "# Plot history: MAE\n",
    "plt.plot(resnet_50_history.history['acc'], label='training acc')\n",
    "plt.title('Accuracy for test dataset with resnet 50')\n",
    "plt.ylabel('Accuracy value')\n",
    "plt.xlabel('No. epoch')\n",
    "plt.legend(loc=\"upper left\")\n",
    "plt.show()"
   ]
  },
  {
   "cell_type": "code",
   "execution_count": 14,
   "metadata": {},
   "outputs": [
    {
     "data": {
      "image/png": "[encoded data removed]",
      "text/plain": [
       "<Figure size 432x288 with 1 Axes>"
      ]
     },
     "metadata": {
      "needs_background": "light"
     },
     "output_type": "display_data"
    }
   ],
   "source": [
    "# Plot history: MAE\n",
    "plt.plot(resnet_50_history.history['val_acc'], label='validation acc')\n",
    "plt.title('Accuracy for Validation dataset with resnet 50')\n",
    "plt.ylabel('Accuracy value')\n",
    "plt.xlabel('No. epoch')\n",
    "plt.legend(loc=\"upper left\")\n",
    "plt.show()"
   ]
  },
  {
   "cell_type": "code",
   "execution_count": 15,
   "metadata": {},
   "outputs": [],
   "source": [
    "# save complete model\n",
    "resnet_50.save('models/complete-model/custom_resNet_50_3200.h5')"
   ]
  },
  {
   "cell_type": "code",
   "execution_count": 16,
   "metadata": {},
   "outputs": [],
   "source": [
    "# save model weight hdf5\n",
    "resnet_50.save_weights('models/model-weight/custom_resNet_50_3200.hdf5')"
   ]
  },
  {
   "cell_type": "markdown",
   "metadata": {},
   "source": [
    "### Evaluation resnet 50 model"
   ]
  },
  {
   "cell_type": "code",
   "execution_count": 17,
   "metadata": {},
   "outputs": [],
   "source": [
    "loaded_resnet_50 = load_model('models/complete-model/custom_resNet_50_3200.h5')"
   ]
  },
  {
   "cell_type": "code",
   "execution_count": 18,
   "metadata": {},
   "outputs": [],
   "source": [
    "valid_df = pd.read_csv(\"CheXpert-v1.0-small/valid.csv\")\n",
    "y_true = valid_df.iloc[:,5:].values"
   ]
  },
  {
   "cell_type": "code",
   "execution_count": 19,
   "metadata": {},
   "outputs": [
    {
     "data": {
      "text/plain": [
       "(234, 14)"
      ]
     },
     "execution_count": 19,
     "metadata": {},
     "output_type": "execute_result"
    }
   ],
   "source": [
    "y_true.shape"
   ]
  },
  {
   "cell_type": "code",
   "execution_count": 20,
   "metadata": {},
   "outputs": [],
   "source": [
    "y_pred_50 = loaded_resnet_50.predict_generator(validation_generator, steps=2)"
   ]
  },
  {
   "cell_type": "code",
   "execution_count": 21,
   "metadata": {},
   "outputs": [],
   "source": [
    "y_pred_50_round = np.where(y_pred_50 > 0.1, 1, 0)\n",
    "y_pred_50_round_0_15 = np.where(y_pred_50 > 0.15, 1, 0)\n",
    "y_pred_50_round_0_2 = np.where(y_pred_50 > 0.2, 1, 0)"
   ]
  },
  {
   "cell_type": "code",
   "execution_count": 22,
   "metadata": {},
   "outputs": [],
   "source": [
    "label = ['no_finding',\n",
    "         'enlarged_cardiomediastinum',\n",
    "         'cardiomegaly',\n",
    "         'lung_opacity',\n",
    "         'lung_lesion',\n",
    "         'edema','consolidation',\n",
    "         'pneumonia',\n",
    "         'atelectasis',\n",
    "         'pneumothorax',\n",
    "         'pleural_effusion',\n",
    "         'pleural_other',\n",
    "         'fracture',\n",
    "         'support_devices'\n",
    "        ]"
   ]
  },
  {
   "cell_type": "code",
   "execution_count": 23,
   "metadata": {},
   "outputs": [
    {
     "data": {
      "text/plain": [
       "array([[[183,  13],\n",
       "        [ 35,   3]],\n",
       "\n",
       "       [[125,   0],\n",
       "        [109,   0]],\n",
       "\n",
       "       [[165,   1],\n",
       "        [ 68,   0]],\n",
       "\n",
       "       [[ 22,  86],\n",
       "        [ 29,  97]],\n",
       "\n",
       "       [[233,   0],\n",
       "        [  1,   0]],\n",
       "\n",
       "       [[166,  23],\n",
       "        [ 41,   4]],\n",
       "\n",
       "       [[201,   0],\n",
       "        [ 33,   0]],\n",
       "\n",
       "       [[226,   0],\n",
       "        [  8,   0]],\n",
       "\n",
       "       [[154,   0],\n",
       "        [ 80,   0]],\n",
       "\n",
       "       [[226,   0],\n",
       "        [  8,   0]],\n",
       "\n",
       "       [[ 57, 110],\n",
       "        [ 32,  35]],\n",
       "\n",
       "       [[233,   0],\n",
       "        [  1,   0]],\n",
       "\n",
       "       [[234,   0],\n",
       "        [  0,   0]],\n",
       "\n",
       "       [[  8, 119],\n",
       "        [ 11,  96]]], dtype=int64)"
      ]
     },
     "execution_count": 23,
     "metadata": {},
     "output_type": "execute_result"
    }
   ],
   "source": [
    "from sklearn.metrics import multilabel_confusion_matrix\n",
    "\n",
    "multilabel_confusion_matrix(y_true, y_pred_50_round_0_15)"
   ]
  },
  {
   "cell_type": "code",
   "execution_count": 24,
   "metadata": {},
   "outputs": [
    {
     "name": "stdout",
     "output_type": "stream",
     "text": [
      "                            precision    recall  f1-score   support\n",
      "\n",
      "                no_finding       0.18      0.16      0.17        38\n",
      "enlarged_cardiomediastinum       1.00      0.01      0.02       109\n",
      "              cardiomegaly       0.35      0.10      0.16        68\n",
      "              lung_opacity       0.54      0.97      0.69       126\n",
      "               lung_lesion       0.00      0.00      0.00         1\n",
      "                     edema       0.16      0.36      0.22        45\n",
      "             consolidation       1.00      0.03      0.06        33\n",
      "                 pneumonia       0.00      0.00      0.00         8\n",
      "               atelectasis       0.50      0.14      0.22        80\n",
      "              pneumothorax       0.00      0.00      0.00         8\n",
      "          pleural_effusion       0.28      0.88      0.42        67\n",
      "             pleural_other       0.00      0.00      0.00         1\n",
      "                  fracture       0.00      0.00      0.00         0\n",
      "           support_devices       0.46      0.99      0.63       107\n",
      "\n",
      "                 micro avg       0.39      0.48      0.43       691\n",
      "                 macro avg       0.32      0.26      0.18       691\n",
      "              weighted avg       0.51      0.48      0.33       691\n",
      "               samples avg       0.39      0.48      0.38       691\n",
      "\n"
     ]
    },
    {
     "name": "stderr",
     "output_type": "stream",
     "text": [
      "C:\\Users\\Appzone-MLG\\Anaconda3\\envs\\chest_xray_env\\lib\\site-packages\\sklearn\\metrics\\_classification.py:1268: UndefinedMetricWarning: Precision and F-score are ill-defined and being set to 0.0 in labels with no predicted samples. Use `zero_division` parameter to control this behavior.\n",
      "  _warn_prf(average, modifier, msg_start, len(result))\n",
      "C:\\Users\\Appzone-MLG\\Anaconda3\\envs\\chest_xray_env\\lib\\site-packages\\sklearn\\metrics\\_classification.py:1268: UndefinedMetricWarning: Recall and F-score are ill-defined and being set to 0.0 in labels with no true samples. Use `zero_division` parameter to control this behavior.\n",
      "  _warn_prf(average, modifier, msg_start, len(result))\n",
      "C:\\Users\\Appzone-MLG\\Anaconda3\\envs\\chest_xray_env\\lib\\site-packages\\sklearn\\metrics\\_classification.py:1268: UndefinedMetricWarning: Recall and F-score are ill-defined and being set to 0.0 in samples with no true labels. Use `zero_division` parameter to control this behavior.\n",
      "  _warn_prf(average, modifier, msg_start, len(result))\n"
     ]
    }
   ],
   "source": [
    "from sklearn.metrics import classification_report\n",
    "\n",
    "print(classification_report(y_true, y_pred_50_round, target_names=label))"
   ]
  },
  {
   "cell_type": "code",
   "execution_count": 25,
   "metadata": {},
   "outputs": [
    {
     "name": "stdout",
     "output_type": "stream",
     "text": [
      "                            precision    recall  f1-score   support\n",
      "\n",
      "                no_finding       0.19      0.08      0.11        38\n",
      "enlarged_cardiomediastinum       0.00      0.00      0.00       109\n",
      "              cardiomegaly       0.00      0.00      0.00        68\n",
      "              lung_opacity       0.53      0.77      0.63       126\n",
      "               lung_lesion       0.00      0.00      0.00         1\n",
      "                     edema       0.15      0.09      0.11        45\n",
      "             consolidation       0.00      0.00      0.00        33\n",
      "                 pneumonia       0.00      0.00      0.00         8\n",
      "               atelectasis       0.00      0.00      0.00        80\n",
      "              pneumothorax       0.00      0.00      0.00         8\n",
      "          pleural_effusion       0.24      0.52      0.33        67\n",
      "             pleural_other       0.00      0.00      0.00         1\n",
      "                  fracture       0.00      0.00      0.00         0\n",
      "           support_devices       0.45      0.90      0.60       107\n",
      "\n",
      "                 micro avg       0.40      0.34      0.37       691\n",
      "                 macro avg       0.11      0.17      0.13       691\n",
      "              weighted avg       0.21      0.34      0.25       691\n",
      "               samples avg       0.41      0.37      0.33       691\n",
      "\n"
     ]
    }
   ],
   "source": [
    "print(classification_report(y_true, y_pred_50_round_0_15, target_names=label))"
   ]
  },
  {
   "cell_type": "code",
   "execution_count": 27,
   "metadata": {},
   "outputs": [],
   "source": [
    "# from sklearn.metrics import roc_auc_score\n",
    "# roc_auc_score(y_true[1], y_pred_50_round[1])\n",
    "# # rocs = []\n",
    "# for i in range(234):\n",
    "#     rocs.append(roc_auc_score(y_true[i], y_pred_50_round[i]))\n",
    "# avg_roc = sum(rocs)/234\n",
    "# print(avg_roc)"
   ]
  },
  {
   "cell_type": "code",
   "execution_count": null,
   "metadata": {},
   "outputs": [],
   "source": [
    "# from sklearn.metrics import accuracy_score\n",
    "\n",
    "# accuracy_score(y_true[0], y_pred_50_round_0_15[0])"
   ]
  },
  {
   "cell_type": "code",
   "execution_count": null,
   "metadata": {},
   "outputs": [],
   "source": [
    "# accs = []\n",
    "\n",
    "# for i in range(234):\n",
    "#     accs.append(accuracy_score(y_true[i], y_pred_50_round[i]))\n",
    "    \n",
    "# avg_acc = sum(accs)/234\n",
    "\n",
    "# print(avg_acc)"
   ]
  },
  {
   "cell_type": "code",
   "execution_count": null,
   "metadata": {},
   "outputs": [],
   "source": []
  },
  {
   "cell_type": "code",
   "execution_count": null,
   "metadata": {},
   "outputs": [],
   "source": []
  },
  {
   "cell_type": "code",
   "execution_count": null,
   "metadata": {},
   "outputs": [],
   "source": []
  },
  {
   "cell_type": "code",
   "execution_count": null,
   "metadata": {},
   "outputs": [],
   "source": []
  },
  {
   "cell_type": "code",
   "execution_count": null,
   "metadata": {},
   "outputs": [],
   "source": []
  },
  {
   "cell_type": "code",
   "execution_count": null,
   "metadata": {},
   "outputs": [],
   "source": [
    "# valid_df = pd.read_csv(\"CheXpert-v1.0-small/valid.csv\")\n",
    "# y = \n",
    "# import pickle\n",
    "\n",
    "# example_dict = {1:\"6\",2:\"2\",3:\"f\"}\n",
    "\n",
    "# pickle_out = open(\"dict.pickle\",\"wb\")\n",
    "# pickle.dump(example_dict, pickle_out)\n",
    "# pickle_out.close()"
   ]
  },
  {
   "cell_type": "code",
   "execution_count": 28,
   "metadata": {},
   "outputs": [],
   "source": [
    "# resnet_50_history\n",
    "pickle_out = open(\"pickle-history/resnet_50_history_3200.pickle\", \"wb\")\n",
    "pickle.dump(resnet_50_history, pickle_out)\n",
    "pickle_out.close()"
   ]
  },
  {
   "cell_type": "code",
   "execution_count": 29,
   "metadata": {},
   "outputs": [],
   "source": [
    "# loading and testing the pickle\n",
    "pickle_in = open(\"pickle-history/resnet_50_history_3200.pickle\",\"rb\")\n",
    "loaded_resent_50_history = pickle.load(pickle_in)"
   ]
  },
  {
   "cell_type": "code",
   "execution_count": null,
   "metadata": {},
   "outputs": [],
   "source": [
    "# # Plot history: MAE\n",
    "# plt.plot(loaded_resent_50_history.history['val_acc'], label='validation acc')\n",
    "# plt.title('Accuracy for Validation dataset with resnet 50')\n",
    "# plt.ylabel('Accuracy value')\n",
    "# plt.xlabel('No. epoch')\n",
    "# plt.legend(loc=\"upper left\")\n",
    "# plt.show()"
   ]
  },
  {
   "cell_type": "markdown",
   "metadata": {},
   "source": [
    "### Implementing the ResNet101 model"
   ]
  },
  {
   "cell_type": "code",
   "execution_count": 30,
   "metadata": {},
   "outputs": [],
   "source": [
    "def ResNet101(input_shape=(64, 64, 1), classes=14):\n",
    "    \"\"\"\n",
    "    Implementation of the popular ResNet50 the following architecture:\n",
    "    CONV2D -> BATCHNORM -> RELU -> MAXPOOL -> CONVBLOCK -> IDBLOCK*2 -> CONVBLOCK -> IDBLOCK*3\n",
    "    -> CONVBLOCK -> IDBLOCK*5 -> CONVBLOCK -> IDBLOCK*2 -> AVGPOOL -> TOPLAYER\n",
    "\n",
    "    Arguments:\n",
    "    input_shape -- shape of the images of the dataset\n",
    "    classes -- integer, number of classes\n",
    "\n",
    "    Returns:\n",
    "    model -- a Model() instance in Keras\n",
    "    \"\"\"\n",
    "\n",
    "    # Define the input as a tensor with shape input_shape\n",
    "    X_input = Input(input_shape)\n",
    "\n",
    "    # Zero-Padding\n",
    "    X = ZeroPadding2D((3, 3))(X_input)\n",
    "\n",
    "    # Stage 1\n",
    "    X = Conv2D(64, (7, 7), strides=(2, 2), name='conv1', kernel_initializer=glorot_uniform(seed=0))(X)\n",
    "    X = BatchNormalization(axis=3, name='bn_conv1')(X)\n",
    "    X = Activation('relu')(X)\n",
    "    X = MaxPooling2D((3, 3), strides=(2, 2))(X)\n",
    "\n",
    "    # Stage 2\n",
    "    X = convolutional_block(X, f=3, filters=[64, 64, 256], stage=2, block='a', s=1)\n",
    "    X = identity_block(X, 3, [64, 64, 256], stage=2, block='b')\n",
    "    X = identity_block(X, 3, [64, 64, 256], stage=2, block='c')\n",
    "\n",
    "    ### START CODE HERE ###\n",
    "\n",
    "    # Stage 3 (≈4 lines)\n",
    "    X = convolutional_block(X, f = 3, filters = [128, 128, 512], stage = 3, block='a', s = 2)\n",
    "    X = identity_block(X, 3, [128, 128, 512], stage=3, block='b')\n",
    "    X = identity_block(X, 3, [128, 128, 512], stage=3, block='c')\n",
    "    X = identity_block(X, 3, [128, 128, 512], stage=3, block='d')\n",
    "\n",
    "    # Stage 4 (≈6 lines)\n",
    "    X = convolutional_block(X, f = 3, filters = [256, 256, 1024], stage = 4, block='a', s = 2)\n",
    "    X = identity_block(X, 3, [256, 256, 1024], stage=4, block='b')\n",
    "    X = identity_block(X, 3, [256, 256, 1024], stage=4, block='c')\n",
    "    X = identity_block(X, 3, [256, 256, 1024], stage=4, block='d')\n",
    "    X = identity_block(X, 3, [256, 256, 1024], stage=4, block='e')\n",
    "    X = identity_block(X, 3, [256, 256, 1024], stage=4, block='f')\n",
    "    X = identity_block(X, 3, [256, 256, 1024], stage=4, block='g')\n",
    "    X = identity_block(X, 3, [256, 256, 1024], stage=4, block='h')\n",
    "    X = identity_block(X, 3, [256, 256, 1024], stage=4, block='i')\n",
    "    X = identity_block(X, 3, [256, 256, 1024], stage=4, block='j')\n",
    "    X = identity_block(X, 3, [256, 256, 1024], stage=4, block='k')\n",
    "    X = identity_block(X, 3, [256, 256, 1024], stage=4, block='l')\n",
    "    X = identity_block(X, 3, [256, 256, 1024], stage=4, block='m')\n",
    "    X = identity_block(X, 3, [256, 256, 1024], stage=4, block='n')\n",
    "    X = identity_block(X, 3, [256, 256, 1024], stage=4, block='o')\n",
    "    X = identity_block(X, 3, [256, 256, 1024], stage=4, block='p')\n",
    "    X = identity_block(X, 3, [256, 256, 1024], stage=4, block='q')\n",
    "    X = identity_block(X, 3, [256, 256, 1024], stage=4, block='r')\n",
    "    X = identity_block(X, 3, [256, 256, 1024], stage=4, block='s')\n",
    "    X = identity_block(X, 3, [256, 256, 1024], stage=4, block='t')\n",
    "    X = identity_block(X, 3, [256, 256, 1024], stage=4, block='u')\n",
    "    X = identity_block(X, 3, [256, 256, 1024], stage=4, block='v')\n",
    "    X = identity_block(X, 3, [256, 256, 1024], stage=4, block='w')\n",
    "    X = identity_block(X, 3, [256, 256, 1024], stage=4, block='x')\n",
    "    X = identity_block(X, 3, [256, 256, 1024], stage=4, block='y')\n",
    "    X = identity_block(X, 3, [256, 256, 1024], stage=4, block='z')\n",
    "\n",
    "    # Stage 5 (≈3 lines)\n",
    "    X = convolutional_block(X, f = 3, filters = [512, 512, 2048], stage = 5, block='a', s = 2)\n",
    "    X = identity_block(X, 3, [512, 512, 2048], stage=5, block='b')\n",
    "    X = identity_block(X, 3, [512, 512, 2048], stage=5, block='c')\n",
    "\n",
    "    # AVGPOOL (≈1 line). Use \"X = AveragePooling2D(...)(X)\"\n",
    "    X = AveragePooling2D((2,2), name=\"avg_pool\")(X)\n",
    "\n",
    "    ### END CODE HERE ###\n",
    "\n",
    "    # output layer\n",
    "    X = Flatten()(X)\n",
    "\n",
    "    X = Dense(classes, activation='softmax', name='fc' + str(classes), kernel_initializer = glorot_uniform(seed=0))(X)\n",
    "    \n",
    "    \n",
    "    # Create model\n",
    "    model = Model(inputs = X_input, outputs = X, name='ResNet101')\n",
    "\n",
    "    return model"
   ]
  },
  {
   "cell_type": "code",
   "execution_count": 31,
   "metadata": {},
   "outputs": [
    {
     "name": "stdout",
     "output_type": "stream",
     "text": [
      "My Custom ResNet101 model:\n"
     ]
    }
   ],
   "source": [
    "print(\"My Custom ResNet101 model:\")\n",
    "plot_model(ResNet101(), to_file='custom-resnet-101.png', show_shapes=True, show_layer_names=True)"
   ]
  },
  {
   "cell_type": "code",
   "execution_count": 32,
   "metadata": {},
   "outputs": [],
   "source": [
    "resnet_101 = ResNet101(input_shape = (128, 128, 1), classes = 14)\n",
    "\n",
    "resnet_101.compile(optimizer='adam', \n",
    "              loss='binary_crossentropy', \n",
    "              metrics=['accuracy']\n",
    "             )"
   ]
  },
  {
   "cell_type": "code",
   "execution_count": 33,
   "metadata": {},
   "outputs": [],
   "source": [
    "# filepath contains location for storing keras models with the lowwest loss function after every 10 epoch\n",
    "filepath=\"models/weights-resnet101-size-3200-{epoch:02d}-{val_loss:.2f}-{val_acc:.2f}.hdf5\"\n",
    "tensor_log_name = f\"resnet101-3400-dataset-{int(time.time())}\"\n",
    "checkpoint = ModelCheckpoint(filepath, \n",
    "                             monitor='val_loss', \n",
    "                             verbose=1, \n",
    "                             save_best_only=True, \n",
    "                             mode='min',\n",
    "                             period=10\n",
    "                            )\n",
    "#                           save_freq=5\n",
    "\n",
    "tensorboard = TensorBoard(log_dir = f'logs/{tensor_log_name}', histogram_freq=0, batch_size=32)"
   ]
  },
  {
   "cell_type": "code",
   "execution_count": 34,
   "metadata": {},
   "outputs": [
    {
     "name": "stdout",
     "output_type": "stream",
     "text": [
      "Epoch 1/50\n",
      "100/100 [==============================] - 204s 2s/step - loss: 0.5972 - acc: 0.8368 - val_loss: 0.8030 - val_acc: 0.7879\n",
      "Epoch 2/50\n",
      "100/100 [==============================] - 102s 1s/step - loss: 0.5416 - acc: 0.8355 - val_loss: 0.6494 - val_acc: 0.7891\n",
      "Epoch 3/50\n",
      "100/100 [==============================] - 39s 388ms/step - loss: 0.5989 - acc: 0.8344 - val_loss: 0.6650 - val_acc: 0.7863\n",
      "Epoch 4/50\n",
      "100/100 [==============================] - 39s 387ms/step - loss: 0.5418 - acc: 0.8351 - val_loss: 0.6128 - val_acc: 0.7885\n",
      "Epoch 5/50\n",
      "100/100 [==============================] - 39s 391ms/step - loss: 0.5268 - acc: 0.8352 - val_loss: 0.6228 - val_acc: 0.7885\n",
      "Epoch 6/50\n",
      "100/100 [==============================] - 39s 390ms/step - loss: 0.5762 - acc: 0.8349 - val_loss: 0.6330 - val_acc: 0.7891\n",
      "Epoch 7/50\n",
      "100/100 [==============================] - 39s 387ms/step - loss: 0.5067 - acc: 0.8366 - val_loss: 0.5892 - val_acc: 0.7885\n",
      "Epoch 8/50\n",
      "100/100 [==============================] - 39s 386ms/step - loss: 0.4999 - acc: 0.8362 - val_loss: 0.5873 - val_acc: 0.7885\n",
      "Epoch 9/50\n",
      "100/100 [==============================] - 39s 386ms/step - loss: 0.5015 - acc: 0.8374 - val_loss: 0.6000 - val_acc: 0.7897\n",
      "Epoch 10/50\n",
      "100/100 [==============================] - 39s 387ms/step - loss: 0.5082 - acc: 0.8375 - val_loss: 0.6162 - val_acc: 0.7894\n",
      "\n",
      "Epoch 00010: val_loss improved from inf to 0.61622, saving model to models/weights-resnet101-size-3200-10-0.62-0.79.hdf5\n",
      "Epoch 11/50\n",
      "100/100 [==============================] - 40s 396ms/step - loss: 0.4980 - acc: 0.8378 - val_loss: 0.6035 - val_acc: 0.7891\n",
      "Epoch 12/50\n",
      "100/100 [==============================] - 41s 414ms/step - loss: 0.5019 - acc: 0.8380 - val_loss: 0.6055 - val_acc: 0.7891\n",
      "Epoch 13/50\n",
      "100/100 [==============================] - 41s 407ms/step - loss: 0.5271 - acc: 0.8383 - val_loss: 0.6790 - val_acc: 0.7888\n",
      "Epoch 14/50\n",
      "100/100 [==============================] - 39s 393ms/step - loss: 0.4954 - acc: 0.8387 - val_loss: 0.6331 - val_acc: 0.7894\n",
      "Epoch 15/50\n",
      "100/100 [==============================] - 41s 410ms/step - loss: 0.4969 - acc: 0.8383 - val_loss: 0.6346 - val_acc: 0.7894\n",
      "Epoch 16/50\n",
      "100/100 [==============================] - 42s 422ms/step - loss: 0.5171 - acc: 0.8379 - val_loss: 0.6175 - val_acc: 0.7888\n",
      "Epoch 17/50\n",
      "100/100 [==============================] - 39s 389ms/step - loss: 0.5447 - acc: 0.8354 - val_loss: 0.6276 - val_acc: 0.7885\n",
      "Epoch 18/50\n",
      "100/100 [==============================] - 43s 427ms/step - loss: 0.5538 - acc: 0.8348 - val_loss: 0.6160 - val_acc: 0.7885\n",
      "Epoch 19/50\n",
      "100/100 [==============================] - 42s 419ms/step - loss: 0.5253 - acc: 0.8356 - val_loss: 0.6419 - val_acc: 0.7879\n",
      "Epoch 20/50\n",
      "100/100 [==============================] - 41s 409ms/step - loss: 0.5241 - acc: 0.8358 - val_loss: 0.6127 - val_acc: 0.7879\n",
      "\n",
      "Epoch 00020: val_loss improved from 0.61622 to 0.61268, saving model to models/weights-resnet101-size-3200-20-0.61-0.79.hdf5\n",
      "Epoch 21/50\n",
      "100/100 [==============================] - 41s 407ms/step - loss: 0.5195 - acc: 0.8354 - val_loss: 0.6214 - val_acc: 0.7882\n",
      "Epoch 22/50\n",
      "100/100 [==============================] - 41s 413ms/step - loss: 0.5214 - acc: 0.8359 - val_loss: 0.6237 - val_acc: 0.7885\n",
      "Epoch 23/50\n",
      "100/100 [==============================] - 43s 430ms/step - loss: 0.5279 - acc: 0.8355 - val_loss: 0.6083 - val_acc: 0.7882\n",
      "Epoch 24/50\n",
      "100/100 [==============================] - 41s 407ms/step - loss: 0.5417 - acc: 0.8352 - val_loss: 0.7251 - val_acc: 0.7863\n",
      "Epoch 25/50\n",
      "100/100 [==============================] - 43s 425ms/step - loss: 0.5174 - acc: 0.8356 - val_loss: 0.7093 - val_acc: 0.7875\n",
      "Epoch 26/50\n",
      "100/100 [==============================] - 40s 404ms/step - loss: 0.5133 - acc: 0.8357 - val_loss: 0.5785 - val_acc: 0.7891\n",
      "Epoch 27/50\n",
      "100/100 [==============================] - 43s 430ms/step - loss: 0.5124 - acc: 0.8356 - val_loss: 0.6087 - val_acc: 0.7885\n",
      "Epoch 28/50\n",
      "100/100 [==============================] - 40s 403ms/step - loss: 0.4967 - acc: 0.8359 - val_loss: 0.6010 - val_acc: 0.7882\n",
      "Epoch 29/50\n",
      "100/100 [==============================] - 44s 436ms/step - loss: 0.4920 - acc: 0.8367 - val_loss: 0.5848 - val_acc: 0.7894\n",
      "Epoch 30/50\n",
      "100/100 [==============================] - 41s 410ms/step - loss: 0.4887 - acc: 0.8362 - val_loss: 0.5757 - val_acc: 0.7894\n",
      "\n",
      "Epoch 00030: val_loss improved from 0.61268 to 0.57567, saving model to models/weights-resnet101-size-3200-30-0.58-0.79.hdf5\n",
      "Epoch 31/50\n",
      "100/100 [==============================] - 40s 403ms/step - loss: 0.5099 - acc: 0.8367 - val_loss: 0.6558 - val_acc: 0.7882\n",
      "Epoch 32/50\n",
      "100/100 [==============================] - 42s 418ms/step - loss: 0.5074 - acc: 0.8372 - val_loss: 0.6127 - val_acc: 0.7897\n",
      "Epoch 33/50\n",
      "100/100 [==============================] - 42s 423ms/step - loss: 0.4986 - acc: 0.8366 - val_loss: 0.6385 - val_acc: 0.7875\n",
      "Epoch 34/50\n",
      "100/100 [==============================] - 40s 404ms/step - loss: 0.5232 - acc: 0.8366 - val_loss: 0.5944 - val_acc: 0.7882\n",
      "Epoch 35/50\n",
      "100/100 [==============================] - 42s 416ms/step - loss: 0.4971 - acc: 0.8373 - val_loss: 0.5989 - val_acc: 0.7888\n",
      "Epoch 36/50\n",
      "100/100 [==============================] - 41s 413ms/step - loss: 0.4968 - acc: 0.8370 - val_loss: 0.5885 - val_acc: 0.7885\n",
      "Epoch 37/50\n",
      "100/100 [==============================] - 41s 412ms/step - loss: 0.4963 - acc: 0.8370 - val_loss: 0.5878 - val_acc: 0.7885\n",
      "Epoch 38/50\n",
      "100/100 [==============================] - 42s 421ms/step - loss: 0.4872 - acc: 0.8370 - val_loss: 0.5942 - val_acc: 0.7891\n",
      "Epoch 39/50\n",
      "100/100 [==============================] - 42s 420ms/step - loss: 0.4867 - acc: 0.8362 - val_loss: 0.6104 - val_acc: 0.7891\n",
      "Epoch 40/50\n",
      "100/100 [==============================] - 44s 438ms/step - loss: 0.4874 - acc: 0.8366 - val_loss: 0.5900 - val_acc: 0.7891\n",
      "\n",
      "Epoch 00040: val_loss did not improve from 0.57567\n",
      "Epoch 41/50\n",
      "100/100 [==============================] - 42s 419ms/step - loss: 0.4786 - acc: 0.8372 - val_loss: 0.5877 - val_acc: 0.7891\n",
      "Epoch 42/50\n",
      "100/100 [==============================] - 40s 400ms/step - loss: 0.4831 - acc: 0.8370 - val_loss: 0.5894 - val_acc: 0.7891\n",
      "Epoch 43/50\n",
      "100/100 [==============================] - 42s 424ms/step - loss: 0.4829 - acc: 0.8373 - val_loss: 0.6188 - val_acc: 0.7897\n",
      "Epoch 44/50\n",
      "100/100 [==============================] - 42s 422ms/step - loss: 0.5037 - acc: 0.8370 - val_loss: 0.5983 - val_acc: 0.7875\n",
      "Epoch 45/50\n",
      "100/100 [==============================] - 48s 480ms/step - loss: 0.4946 - acc: 0.8368 - val_loss: 0.6621 - val_acc: 0.7879\n",
      "Epoch 46/50\n",
      "100/100 [==============================] - 40s 397ms/step - loss: 0.5066 - acc: 0.8364 - val_loss: 0.6164 - val_acc: 0.7894\n",
      "Epoch 47/50\n",
      "100/100 [==============================] - 42s 424ms/step - loss: 0.4933 - acc: 0.8370 - val_loss: 0.5918 - val_acc: 0.7894\n",
      "Epoch 48/50\n",
      "100/100 [==============================] - 42s 420ms/step - loss: 0.5064 - acc: 0.8363 - val_loss: 0.6063 - val_acc: 0.7888\n",
      "Epoch 49/50\n",
      "100/100 [==============================] - 43s 425ms/step - loss: 0.4885 - acc: 0.8369 - val_loss: 0.5822 - val_acc: 0.7885\n",
      "Epoch 50/50\n",
      "100/100 [==============================] - 41s 409ms/step - loss: 0.4854 - acc: 0.8368 - val_loss: 0.6826 - val_acc: 0.7872\n",
      "\n",
      "Epoch 00050: val_loss did not improve from 0.57567\n",
      "--- 2801.6500051021576 seconds ---\n"
     ]
    }
   ],
   "source": [
    "start_time = time.time()\n",
    "\n",
    "resnet_101_history = resnet_101.fit_generator(\n",
    "        train_generator,\n",
    "        steps_per_epoch=100,\n",
    "        epochs=50,\n",
    "        validation_data=validation_generator,\n",
    "        validation_steps=2,\n",
    "        callbacks=[checkpoint, tensorboard]\n",
    ")\n",
    "\n",
    "print(\"--- %s seconds ---\" % (time.time() - start_time))"
   ]
  },
  {
   "cell_type": "code",
   "execution_count": 35,
   "metadata": {},
   "outputs": [
    {
     "data": {
      "image/png": "[encoded data removed]",
      "text/plain": [
       "<Figure size 432x288 with 1 Axes>"
      ]
     },
     "metadata": {
      "needs_background": "light"
     },
     "output_type": "display_data"
    }
   ],
   "source": [
    "# Plot history: Loss\n",
    "plt.plot(resnet_101_history.history['loss'], label='loss (training data)')\n",
    "plt.plot(resnet_101_history.history['val_loss'], label='loss (validation data)')\n",
    "plt.title('Loss for Chest Xray dataset ResNet 101')\n",
    "plt.ylabel('Loss value')\n",
    "plt.xlabel('No. epoch')\n",
    "plt.legend(loc=\"upper left\")\n",
    "plt.show()"
   ]
  },
  {
   "cell_type": "code",
   "execution_count": 36,
   "metadata": {},
   "outputs": [
    {
     "data": {
      "image/png": "[encoded data removed]",
      "text/plain": [
       "<Figure size 432x288 with 1 Axes>"
      ]
     },
     "metadata": {
      "needs_background": "light"
     },
     "output_type": "display_data"
    }
   ],
   "source": [
    "# Plot history: MAE\n",
    "plt.plot(resnet_101_history.history['acc'], label='training acc')\n",
    "plt.title('Accuracy for training dataset ResNet 101')\n",
    "plt.ylabel('Accuracy value')\n",
    "plt.xlabel('No. epoch')\n",
    "plt.legend(loc=\"upper left\")\n",
    "plt.show()"
   ]
  },
  {
   "cell_type": "code",
   "execution_count": 37,
   "metadata": {},
   "outputs": [
    {
     "data": {
      "image/png": "[encoded data removed]",
      "text/plain": [
       "<Figure size 432x288 with 1 Axes>"
      ]
     },
     "metadata": {
      "needs_background": "light"
     },
     "output_type": "display_data"
    }
   ],
   "source": [
    "# Plot history: MAE\n",
    "plt.plot(resnet_101_history.history['val_acc'], label='validation acc')\n",
    "plt.title('Accuracy for Validation dataset with ResNet 101')\n",
    "plt.ylabel('Accuracy value')\n",
    "plt.xlabel('No. epoch')\n",
    "plt.legend(loc=\"upper left\")\n",
    "plt.show()"
   ]
  },
  {
   "cell_type": "code",
   "execution_count": 39,
   "metadata": {},
   "outputs": [],
   "source": [
    "# saving history pickle resnet 101 in memory\n",
    "pickle_out = open(\"pickle-history/resnet_101_history_3200.pickle\", \"wb\")\n",
    "pickle.dump(resnet_50_history, pickle_out)\n",
    "pickle_out.close()"
   ]
  },
  {
   "cell_type": "code",
   "execution_count": null,
   "metadata": {},
   "outputs": [],
   "source": [
    "# loading models weights\n",
    "# loaded_resnet_50.load_weights()"
   ]
  },
  {
   "cell_type": "code",
   "execution_count": null,
   "metadata": {},
   "outputs": [],
   "source": []
  },
  {
   "cell_type": "code",
   "execution_count": null,
   "metadata": {},
   "outputs": [],
   "source": []
  },
  {
   "cell_type": "code",
   "execution_count": null,
   "metadata": {},
   "outputs": [],
   "source": []
  },
  {
   "cell_type": "code",
   "execution_count": null,
   "metadata": {},
   "outputs": [],
   "source": []
  },
  {
   "cell_type": "markdown",
   "metadata": {},
   "source": [
    "### Implementing the ensemble ResNet model"
   ]
  },
  {
   "cell_type": "code",
   "execution_count": null,
   "metadata": {},
   "outputs": [],
   "source": [
    "models = [resnet_50, resnet_101]"
   ]
  },
  {
   "cell_type": "code",
   "execution_count": null,
   "metadata": {},
   "outputs": [],
   "source": [
    "from keras.models import Model, Input\n",
    "from keras.layers import Average\n",
    "from keras.engine import training\n",
    "from typing import Tuple, List"
   ]
  },
  {
   "cell_type": "code",
   "execution_count": null,
   "metadata": {},
   "outputs": [],
   "source": [
    "def ensemble(models: List [training.Model]) -> training.Model:\n",
    "    outputs = [model.outputs[0] for model in models]\n",
    "    y = Average()(outputs)\n",
    "    model = Model(Input(shape=(128, 128, 1)), y, name='ensemble_resnet')\n",
    "    return model"
   ]
  },
  {
   "cell_type": "code",
   "execution_count": null,
   "metadata": {},
   "outputs": [],
   "source": [
    "# ensemble_model = ensemble(models)\n",
    "\n",
    "# ValueError: Graph disconnected: cannot obtain value for tensor Tensor(\"input_6:0\", shape=(?, 128, 128, 1), dtype=float32) at layer \"input_6\". The following previous layers were accessed without issue: []"
   ]
  },
  {
   "cell_type": "code",
   "execution_count": null,
   "metadata": {},
   "outputs": [],
   "source": [
    "# resnet_50.outputs[0]\n",
    "# resnet_50.outputs[0][21]\n",
    "# ensemble_model.save('models/my_ensemble_resNet.h5')"
   ]
  },
  {
   "cell_type": "code",
   "execution_count": null,
   "metadata": {},
   "outputs": [],
   "source": []
  },
  {
   "cell_type": "code",
   "execution_count": null,
   "metadata": {},
   "outputs": [],
   "source": []
  },
  {
   "cell_type": "code",
   "execution_count": null,
   "metadata": {},
   "outputs": [],
   "source": []
  },
  {
   "cell_type": "code",
   "execution_count": null,
   "metadata": {},
   "outputs": [],
   "source": []
  },
  {
   "cell_type": "code",
   "execution_count": null,
   "metadata": {},
   "outputs": [],
   "source": []
  },
  {
   "cell_type": "code",
   "execution_count": null,
   "metadata": {},
   "outputs": [],
   "source": []
  },
  {
   "cell_type": "code",
   "execution_count": null,
   "metadata": {},
   "outputs": [],
   "source": []
  },
  {
   "cell_type": "code",
   "execution_count": null,
   "metadata": {},
   "outputs": [],
   "source": []
  }
 ],
 "metadata": {
  "kernelspec": {
   "display_name": "Python 3",
   "language": "python",
   "name": "python3"
  },
  "language_info": {
   "codemirror_mode": {
    "name": "ipython",
    "version": 3
   },
   "file_extension": ".py",
   "mimetype": "text/x-python",
   "name": "python",
   "nbconvert_exporter": "python",
   "pygments_lexer": "ipython3",
   "version": "3.6.9"
  }
 },
 "nbformat": 4,
 "nbformat_minor": 2
}
