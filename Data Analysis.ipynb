{
 "cells": [
  {
   "cell_type": "markdown",
   "metadata": {},
   "source": [
    "### Analysis of the chest x-ray dataset"
   ]
  },
  {
   "cell_type": "code",
   "execution_count": 8,
   "metadata": {},
   "outputs": [],
   "source": [
    "# to handle datasets\n",
    "import pandas as pd\n",
    "import numpy as np\n",
    "\n",
    "# for plotting\n",
    "# import matplotlib.pyplot as plt\n",
    "# %matplotlib inline\n",
    "\n",
    "# to display all the columns of the dataframe in the notebook\n",
    "pd.pandas.set_option('display.max_columns', None)"
   ]
  },
  {
   "cell_type": "code",
   "execution_count": 4,
   "metadata": {},
   "outputs": [
    {
     "data": {
      "text/plain": [
       "Index(['Path', 'Sex', 'Age', 'Frontal/Lateral', 'AP/PA', 'No Finding',\n",
       "       'Enlarged Cardiomediastinum', 'Cardiomegaly', 'Lung Opacity',\n",
       "       'Lung Lesion', 'Edema', 'Consolidation', 'Pneumonia', 'Atelectasis',\n",
       "       'Pneumothorax', 'Pleural Effusion', 'Pleural Other', 'Fracture',\n",
       "       'Support Devices'],\n",
       "      dtype='object')"
      ]
     },
     "execution_count": 4,
     "metadata": {},
     "output_type": "execute_result"
    }
   ],
   "source": [
    "df.columns"
   ]
  },
  {
   "cell_type": "code",
   "execution_count": 16,
   "metadata": {},
   "outputs": [],
   "source": [
    "# load dataset\n",
    "df = pd.read_csv('CheXpert-v1.0-small/train.csv', usecols=[\n",
    "    'Path',\n",
    "    'No Finding',\n",
    "    'Enlarged Cardiomediastinum',\n",
    "    'Cardiomegaly',\n",
    "    'Lung Opacity',\n",
    "    'Lung Lesion',\n",
    "    'Edema',\n",
    "    'Consolidation',\n",
    "    'Pneumonia',\n",
    "    'Atelectasis',\n",
    "    'Pneumothorax',\n",
    "    'Pleural Effusion',\n",
    "    'Pleural Other',\n",
    "    'Fracture'\n",
    "]) # This features are the features i consider relevent to this project."
   ]
  },
  {
   "cell_type": "code",
   "execution_count": 17,
   "metadata": {},
   "outputs": [
    {
     "data": {
      "text/html": [
       "<div>\n",
       "<style scoped>\n",
       "    .dataframe tbody tr th:only-of-type {\n",
       "        vertical-align: middle;\n",
       "    }\n",
       "\n",
       "    .dataframe tbody tr th {\n",
       "        vertical-align: top;\n",
       "    }\n",
       "\n",
       "    .dataframe thead th {\n",
       "        text-align: right;\n",
       "    }\n",
       "</style>\n",
       "<table border=\"1\" class=\"dataframe\">\n",
       "  <thead>\n",
       "    <tr style=\"text-align: right;\">\n",
       "      <th></th>\n",
       "      <th>Path</th>\n",
       "      <th>No Finding</th>\n",
       "      <th>Enlarged Cardiomediastinum</th>\n",
       "      <th>Cardiomegaly</th>\n",
       "      <th>Lung Opacity</th>\n",
       "      <th>Lung Lesion</th>\n",
       "      <th>Edema</th>\n",
       "      <th>Consolidation</th>\n",
       "      <th>Pneumonia</th>\n",
       "      <th>Atelectasis</th>\n",
       "      <th>Pneumothorax</th>\n",
       "      <th>Pleural Effusion</th>\n",
       "      <th>Pleural Other</th>\n",
       "      <th>Fracture</th>\n",
       "    </tr>\n",
       "  </thead>\n",
       "  <tbody>\n",
       "    <tr>\n",
       "      <th>0</th>\n",
       "      <td>CheXpert-v1.0-small/train/patient00001/study1/...</td>\n",
       "      <td>1.0</td>\n",
       "      <td>NaN</td>\n",
       "      <td>NaN</td>\n",
       "      <td>NaN</td>\n",
       "      <td>NaN</td>\n",
       "      <td>NaN</td>\n",
       "      <td>NaN</td>\n",
       "      <td>NaN</td>\n",
       "      <td>NaN</td>\n",
       "      <td>0.0</td>\n",
       "      <td>NaN</td>\n",
       "      <td>NaN</td>\n",
       "      <td>NaN</td>\n",
       "    </tr>\n",
       "    <tr>\n",
       "      <th>1</th>\n",
       "      <td>CheXpert-v1.0-small/train/patient00002/study2/...</td>\n",
       "      <td>NaN</td>\n",
       "      <td>NaN</td>\n",
       "      <td>-1.0</td>\n",
       "      <td>1.0</td>\n",
       "      <td>NaN</td>\n",
       "      <td>-1.0</td>\n",
       "      <td>-1.0</td>\n",
       "      <td>NaN</td>\n",
       "      <td>-1.0</td>\n",
       "      <td>NaN</td>\n",
       "      <td>-1.0</td>\n",
       "      <td>NaN</td>\n",
       "      <td>1.0</td>\n",
       "    </tr>\n",
       "    <tr>\n",
       "      <th>2</th>\n",
       "      <td>CheXpert-v1.0-small/train/patient00002/study1/...</td>\n",
       "      <td>NaN</td>\n",
       "      <td>NaN</td>\n",
       "      <td>NaN</td>\n",
       "      <td>1.0</td>\n",
       "      <td>NaN</td>\n",
       "      <td>NaN</td>\n",
       "      <td>-1.0</td>\n",
       "      <td>NaN</td>\n",
       "      <td>NaN</td>\n",
       "      <td>NaN</td>\n",
       "      <td>NaN</td>\n",
       "      <td>NaN</td>\n",
       "      <td>1.0</td>\n",
       "    </tr>\n",
       "    <tr>\n",
       "      <th>3</th>\n",
       "      <td>CheXpert-v1.0-small/train/patient00002/study1/...</td>\n",
       "      <td>NaN</td>\n",
       "      <td>NaN</td>\n",
       "      <td>NaN</td>\n",
       "      <td>1.0</td>\n",
       "      <td>NaN</td>\n",
       "      <td>NaN</td>\n",
       "      <td>-1.0</td>\n",
       "      <td>NaN</td>\n",
       "      <td>NaN</td>\n",
       "      <td>NaN</td>\n",
       "      <td>NaN</td>\n",
       "      <td>NaN</td>\n",
       "      <td>1.0</td>\n",
       "    </tr>\n",
       "    <tr>\n",
       "      <th>4</th>\n",
       "      <td>CheXpert-v1.0-small/train/patient00003/study1/...</td>\n",
       "      <td>NaN</td>\n",
       "      <td>NaN</td>\n",
       "      <td>NaN</td>\n",
       "      <td>NaN</td>\n",
       "      <td>NaN</td>\n",
       "      <td>1.0</td>\n",
       "      <td>NaN</td>\n",
       "      <td>NaN</td>\n",
       "      <td>NaN</td>\n",
       "      <td>0.0</td>\n",
       "      <td>NaN</td>\n",
       "      <td>NaN</td>\n",
       "      <td>NaN</td>\n",
       "    </tr>\n",
       "  </tbody>\n",
       "</table>\n",
       "</div>"
      ],
      "text/plain": [
       "                                                Path  No Finding  \\\n",
       "0  CheXpert-v1.0-small/train/patient00001/study1/...         1.0   \n",
       "1  CheXpert-v1.0-small/train/patient00002/study2/...         NaN   \n",
       "2  CheXpert-v1.0-small/train/patient00002/study1/...         NaN   \n",
       "3  CheXpert-v1.0-small/train/patient00002/study1/...         NaN   \n",
       "4  CheXpert-v1.0-small/train/patient00003/study1/...         NaN   \n",
       "\n",
       "   Enlarged Cardiomediastinum  Cardiomegaly  Lung Opacity  Lung Lesion  Edema  \\\n",
       "0                         NaN           NaN           NaN          NaN    NaN   \n",
       "1                         NaN          -1.0           1.0          NaN   -1.0   \n",
       "2                         NaN           NaN           1.0          NaN    NaN   \n",
       "3                         NaN           NaN           1.0          NaN    NaN   \n",
       "4                         NaN           NaN           NaN          NaN    1.0   \n",
       "\n",
       "   Consolidation  Pneumonia  Atelectasis  Pneumothorax  Pleural Effusion  \\\n",
       "0            NaN        NaN          NaN           0.0               NaN   \n",
       "1           -1.0        NaN         -1.0           NaN              -1.0   \n",
       "2           -1.0        NaN          NaN           NaN               NaN   \n",
       "3           -1.0        NaN          NaN           NaN               NaN   \n",
       "4            NaN        NaN          NaN           0.0               NaN   \n",
       "\n",
       "   Pleural Other  Fracture  \n",
       "0            NaN       NaN  \n",
       "1            NaN       1.0  \n",
       "2            NaN       1.0  \n",
       "3            NaN       1.0  \n",
       "4            NaN       NaN  "
      ]
     },
     "execution_count": 17,
     "metadata": {},
     "output_type": "execute_result"
    }
   ],
   "source": [
    "df.head()"
   ]
  },
  {
   "cell_type": "markdown",
   "metadata": {},
   "source": []
  },
  {
   "cell_type": "code",
   "execution_count": 18,
   "metadata": {},
   "outputs": [],
   "source": [
    "# Columns name transformation.\n",
    "\n",
    "df.columns = df.columns.str.strip().str.lower().str.replace(' ', '_').str.replace('(', '').str.replace(')', '').str.replace('/', '_or_')"
   ]
  },
  {
   "cell_type": "code",
   "execution_count": 19,
   "metadata": {},
   "outputs": [
    {
     "data": {
      "text/plain": [
       "Index(['path', 'no_finding', 'enlarged_cardiomediastinum', 'cardiomegaly',\n",
       "       'lung_opacity', 'lung_lesion', 'edema', 'consolidation', 'pneumonia',\n",
       "       'atelectasis', 'pneumothorax', 'pleural_effusion', 'pleural_other',\n",
       "       'fracture'],\n",
       "      dtype='object')"
      ]
     },
     "execution_count": 19,
     "metadata": {},
     "output_type": "execute_result"
    }
   ],
   "source": [
    "df.columns"
   ]
  },
  {
   "cell_type": "code",
   "execution_count": 57,
   "metadata": {},
   "outputs": [
    {
     "name": "stdout",
     "output_type": "stream",
     "text": [
      "The feature \"no_finding\" has: \n",
      " 1.0    22381\n",
      "Name: no_finding, dtype: int64 values \n",
      "\n",
      "The feature \"enlarged_cardiomediastinum\" has: \n",
      "  0.0    21638\n",
      "-1.0    12403\n",
      " 1.0    10798\n",
      "Name: enlarged_cardiomediastinum, dtype: int64 values \n",
      "\n",
      "The feature \"cardiomegaly\" has: \n",
      "  1.0    27000\n",
      " 0.0    11116\n",
      "-1.0     8087\n",
      "Name: cardiomegaly, dtype: int64 values \n",
      "\n",
      "The feature \"lung_opacity\" has: \n",
      "  1.0    105581\n",
      " 0.0      6599\n",
      "-1.0      5598\n",
      "Name: lung_opacity, dtype: int64 values \n",
      "\n",
      "The feature \"lung_lesion\" has: \n",
      "  1.0    9186\n",
      "-1.0    1488\n",
      " 0.0    1270\n",
      "Name: lung_lesion, dtype: int64 values \n",
      "\n",
      "The feature \"edema\" has: \n",
      "  1.0    52246\n",
      " 0.0    20726\n",
      "-1.0    12984\n",
      "Name: edema, dtype: int64 values \n",
      "\n",
      "The feature \"consolidation\" has: \n",
      "  0.0    28097\n",
      "-1.0    27742\n",
      " 1.0    14783\n",
      "Name: consolidation, dtype: int64 values \n",
      "\n",
      "The feature \"pneumonia\" has: \n",
      " -1.0    18770\n",
      " 1.0     6039\n",
      " 0.0     2799\n",
      "Name: pneumonia, dtype: int64 values \n",
      "\n",
      "The feature \"atelectasis\" has: \n",
      " -1.0    33739\n",
      " 1.0    33376\n",
      " 0.0     1328\n",
      "Name: atelectasis, dtype: int64 values \n",
      "\n",
      "The feature \"pneumothorax\" has: \n",
      "  0.0    56341\n",
      " 1.0    19448\n",
      "-1.0     3145\n",
      "Name: pneumothorax, dtype: int64 values \n",
      "\n",
      "The feature \"pleural_effusion\" has: \n",
      "  1.0    86187\n",
      " 0.0    35396\n",
      "-1.0    11628\n",
      "Name: pleural_effusion, dtype: int64 values \n",
      "\n",
      "The feature \"pleural_other\" has: \n",
      "  1.0    3523\n",
      "-1.0    2653\n",
      " 0.0     316\n",
      "Name: pleural_other, dtype: int64 values \n",
      "\n",
      "The feature \"fracture\" has: \n",
      "  1.0    9040\n",
      " 0.0    2512\n",
      "-1.0     642\n",
      "Name: fracture, dtype: int64 values \n",
      "\n"
     ]
    }
   ],
   "source": [
    "# -1.0: Uncertainty\n",
    "# 0.0: means the disease has not occured \n",
    "# 1.0\n",
    "# Nan: Unmentioned\n",
    "\n",
    "\n",
    "def feature_value_count(df, variable):\n",
    "    print('The feature \"{}\" has: \\n'.format(variable), df[variable].value_counts(), 'values \\n')\n",
    "\n",
    "for features in df.columns:\n",
    "    if features != 'path':\n",
    "        feature_value_count(df, variable = features)"
   ]
  },
  {
   "cell_type": "code",
   "execution_count": 59,
   "metadata": {},
   "outputs": [],
   "source": [
    "# df.isnull().any(axis=1).value_counts()\n",
    "# df_copy = df.dropna()"
   ]
  },
  {
   "cell_type": "code",
   "execution_count": null,
   "metadata": {},
   "outputs": [],
   "source": [
    "# Check column values type\n",
    "\n"
   ]
  }
 ],
 "metadata": {
  "kernelspec": {
   "display_name": "Python 3",
   "language": "python",
   "name": "python3"
  },
  "language_info": {
   "codemirror_mode": {
    "name": "ipython",
    "version": 3
   },
   "file_extension": ".py",
   "mimetype": "text/x-python",
   "name": "python",
   "nbconvert_exporter": "python",
   "pygments_lexer": "ipython3",
   "version": "3.6.9"
  }
 },
 "nbformat": 4,
 "nbformat_minor": 2
}
