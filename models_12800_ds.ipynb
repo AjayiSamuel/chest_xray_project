{
 "cells": [
  {
   "cell_type": "code",
   "execution_count": 10,
   "metadata": {},
   "outputs": [],
   "source": [
    "import numpy as np\n",
    "import pandas as pd\n",
    "from keras import layers\n",
    "from keras.layers import Input, Add, Dense, Activation, ZeroPadding2D, BatchNormalization, Flatten, Conv2D, AveragePooling2D, MaxPooling2D, GlobalMaxPooling2D, Dropout\n",
    "from keras.models import Model, load_model\n",
    "from keras.preprocessing import image\n",
    "from keras.utils import layer_utils\n",
    "from keras.utils.data_utils import get_file\n",
    "from keras.applications.imagenet_utils import preprocess_input\n",
    "from keras.preprocessing.image import ImageDataGenerator\n",
    "from keras.callbacks import ModelCheckpoint, TensorBoard\n",
    "import pydot\n",
    "from IPython.display import SVG\n",
    "from keras.utils.vis_utils import model_to_dot\n",
    "from keras.utils import plot_model\n",
    "from resnets_utils import *\n",
    "from keras.initializers import glorot_uniform\n",
    "import scipy.misc\n",
    "from matplotlib.pyplot import imshow\n",
    "%matplotlib inline\n",
    "\n",
    "import keras.backend as K\n",
    "import time\n",
    "import pickle\n",
    "K.set_image_data_format('channels_last')\n",
    "K.set_learning_phase(1)"
   ]
  },
  {
   "cell_type": "markdown",
   "metadata": {},
   "source": [
    "### loading the dataset"
   ]
  },
  {
   "cell_type": "code",
   "execution_count": 11,
   "metadata": {},
   "outputs": [],
   "source": [
    "def load_data(size=1000):\n",
    "    train_df = pd.read_csv(\"CheXpert-v1.0-small/train_data.csv\", nrows=size)\n",
    "    valid_df = pd.read_csv(\"CheXpert-v1.0-small/valid.csv\")\n",
    "\n",
    "    train_datagen = ImageDataGenerator(\n",
    "            rescale=1./255,\n",
    "            zoom_range=0.2,\n",
    "            horizontal_flip=False)\n",
    "\n",
    "    test_datagen = ImageDataGenerator(rescale=1./255)\n",
    "\n",
    "    train_generator = train_datagen.flow_from_dataframe(\n",
    "            dataframe=train_df,\n",
    "            directory=None,\n",
    "            x_col=\"path\",\n",
    "            y_col=['no_finding',\n",
    "                   'enlarged_cardiomediastinum',\n",
    "                   'cardiomegaly',\n",
    "                   'lung_opacity',\n",
    "                   'lung_lesion',\n",
    "                   'edema',\n",
    "                   'consolidation',\n",
    "                   'pneumonia',\n",
    "                   'atelectasis',\n",
    "                   'pneumothorax',\n",
    "                   'pleural_effusion',\n",
    "                   'pleural_other',\n",
    "                   'fracture',\n",
    "                   'support_devices'\n",
    "                   ],\n",
    "            color_mode=\"grayscale\",\n",
    "            target_size=(128, 128),\n",
    "            batch_size=32,\n",
    "            shuffle=False,\n",
    "            class_mode=\"raw\"\n",
    "    )\n",
    "\n",
    "    validation_generator = test_datagen.flow_from_dataframe(\n",
    "            dataframe=valid_df,\n",
    "            directory=None,\n",
    "            x_col=\"Path\",\n",
    "            y_col=['No Finding',\n",
    "                   'Enlarged Cardiomediastinum',\n",
    "                   'Cardiomegaly',\n",
    "                   'Lung Opacity',\n",
    "                   'Lung Lesion',\n",
    "                   'Edema',\n",
    "                   'Consolidation',\n",
    "                   'Pneumonia',\n",
    "                   'Atelectasis',\n",
    "                   'Pneumothorax',\n",
    "                   'Pleural Effusion',\n",
    "                   'Pleural Other',\n",
    "                   'Fracture',\n",
    "                   'Support Devices'\n",
    "                  ],\n",
    "            color_mode=\"grayscale\",\n",
    "            target_size=(128, 128),\n",
    "            batch_size=128,\n",
    "            class_mode=\"raw\",\n",
    "            shuffle=False\n",
    "    )\n",
    "    \n",
    "    return train_generator, validation_generator"
   ]
  },
  {
   "cell_type": "code",
   "execution_count": 12,
   "metadata": {},
   "outputs": [
    {
     "name": "stdout",
     "output_type": "stream",
     "text": [
      "Found 12800 validated image filenames.\n",
      "Found 234 validated image filenames.\n"
     ]
    }
   ],
   "source": [
    "# load data with 2000 rows\n",
    "train_generator, validation_generator = load_data(size=12800)"
   ]
  },
  {
   "cell_type": "markdown",
   "metadata": {},
   "source": [
    "### Creating the ResNet Archiecture Identity block"
   ]
  },
  {
   "cell_type": "code",
   "execution_count": 13,
   "metadata": {},
   "outputs": [],
   "source": [
    "def identity_block(X, f, filters, stage, block):\n",
    "    \"\"\"\n",
    "    Implementation of the identity block as defined in Figure 3\n",
    "    \n",
    "    Arguments:\n",
    "    X -- input tensor of shape (m, n_H_prev, n_W_prev, n_C_prev)\n",
    "    f -- integer, specifying the shape of the middle CONV's window for the main path\n",
    "    filters -- python list of integers, defining the number of filters in the CONV layers of the main path\n",
    "    stage -- integer, used to name the layers, depending on their position in the network\n",
    "    block -- string/character, used to name the layers, depending on their position in the network\n",
    "    \n",
    "    Returns:\n",
    "    X -- output of the identity block, tensor of shape (n_H, n_W, n_C)\n",
    "    \"\"\"\n",
    "    \n",
    "    # defining name basis\n",
    "    conv_name_base = 'res' + str(stage) + block + '_branch'\n",
    "    bn_name_base = 'bn' + str(stage) + block + '_branch'\n",
    "    \n",
    "    # Retrieve Filters\n",
    "    F1, F2, F3 = filters\n",
    "    \n",
    "    # Save the input value. You'll need this later to add back to the main path. \n",
    "    X_shortcut = X\n",
    "    \n",
    "    # First component of main path\n",
    "    X = Conv2D(filters = F1, kernel_size = (1, 1), strides = (1,1), padding = 'valid', name = conv_name_base + '2a', kernel_initializer = glorot_uniform(seed=0))(X)\n",
    "    X = BatchNormalization(axis = 3, name = bn_name_base + '2a')(X)\n",
    "    X = Activation('relu')(X)\n",
    "\n",
    "    \n",
    "    # Second component of main path (≈3 lines)\n",
    "    X = Conv2D(filters = F2, kernel_size = (f, f), strides = (1,1), padding = 'same', name = conv_name_base + '2b', kernel_initializer = glorot_uniform(seed=0))(X)\n",
    "    X = BatchNormalization(axis = 3, name = bn_name_base + '2b')(X)\n",
    "    X = Activation('relu')(X)\n",
    "\n",
    "    # Third component of main path (≈2 lines)\n",
    "    X = Conv2D(filters = F3, kernel_size = (1, 1), strides = (1,1), padding = 'valid', name = conv_name_base + '2c', kernel_initializer = glorot_uniform(seed=0))(X)\n",
    "    X = BatchNormalization(axis = 3, name = bn_name_base + '2c')(X)\n",
    "\n",
    "    # Final step: Add shortcut value to main path, and pass it through a RELU activation (≈2 lines)\n",
    "    X = Add()([X, X_shortcut])\n",
    "    X = Activation('relu')(X)\n",
    "    \n",
    "    \n",
    "    return X"
   ]
  },
  {
   "cell_type": "code",
   "execution_count": null,
   "metadata": {},
   "outputs": [],
   "source": [
    "def convolutional_block(X, f, filters, stage, block, s = 2):\n",
    "    \"\"\"\n",
    "    Implementation of the convolutional block as defined in Figure 4\n",
    "    \n",
    "    Arguments:\n",
    "    X -- input tensor of shape (m, n_H_prev, n_W_prev, n_C_prev)\n",
    "    f -- integer, specifying the shape of the middle CONV's window for the main path\n",
    "    filters -- python list of integers, defining the number of filters in the CONV layers of the main path\n",
    "    stage -- integer, used to name the layers, depending on their position in the network\n",
    "    block -- string/character, used to name the layers, depending on their position in the network\n",
    "    s -- Integer, specifying the stride to be used\n",
    "    \n",
    "    Returns:\n",
    "    X -- output of the convolutional block, tensor of shape (n_H, n_W, n_C)\n",
    "    \"\"\"\n",
    "    \n",
    "    # defining name basis\n",
    "    conv_name_base = 'res' + str(stage) + block + '_branch'\n",
    "    bn_name_base = 'bn' + str(stage) + block + '_branch'\n",
    "    \n",
    "    # Retrieve Filters\n",
    "    F1, F2, F3 = filters\n",
    "    \n",
    "    # Save the input value\n",
    "    X_shortcut = X\n",
    "\n",
    "\n",
    "    ##### MAIN PATH #####\n",
    "    # First component of main path \n",
    "    X = Conv2D(F1, (1, 1), strides = (s,s), name = conv_name_base + '2a', kernel_initializer = glorot_uniform(seed=0))(X)\n",
    "    X = BatchNormalization(axis = 3, name = bn_name_base + '2a')(X)\n",
    "    X = Activation('relu')(X)\n",
    "\n",
    "    # Second component of main path (≈3 lines)\n",
    "    X = Conv2D(filters = F2, kernel_size = (f, f), strides = (1,1), padding = 'same', name = conv_name_base + '2b', kernel_initializer = glorot_uniform(seed=0))(X)\n",
    "    X = BatchNormalization(axis = 3, name = bn_name_base + '2b')(X)\n",
    "    X = Activation('relu')(X)\n",
    "\n",
    "\n",
    "    # Third component of main path (≈2 lines)\n",
    "    X = Conv2D(filters = F3, kernel_size = (1, 1), strides = (1,1), padding = 'valid', name = conv_name_base + '2c', kernel_initializer = glorot_uniform(seed=0))(X)\n",
    "    X = BatchNormalization(axis = 3, name = bn_name_base + '2c')(X)\n",
    "\n",
    "\n",
    "    ##### SHORTCUT PATH #### (≈2 lines)\n",
    "    X_shortcut = Conv2D(filters = F3, kernel_size = (1, 1), strides = (s,s), padding = 'valid', name = conv_name_base + '1',\n",
    "                        kernel_initializer = glorot_uniform(seed=0))(X_shortcut)\n",
    "    X_shortcut = BatchNormalization(axis = 3, name = bn_name_base + '1')(X_shortcut)\n",
    "\n",
    "    # Final step: Add shortcut value to main path, and pass it through a RELU activation (≈2 lines)\n",
    "    X = Add()([X, X_shortcut])\n",
    "    X = Activation('relu')(X)\n",
    "    \n",
    "    \n",
    "    return X"
   ]
  },
  {
   "cell_type": "markdown",
   "metadata": {},
   "source": [
    "### Implementing the ResNet50 model"
   ]
  },
  {
   "cell_type": "code",
   "execution_count": 14,
   "metadata": {},
   "outputs": [],
   "source": [
    "def ResNet50(input_shape=(64, 64, 1), classes=14):\n",
    "    \"\"\"\n",
    "    Implementation of the popular ResNet50 the following architecture:\n",
    "    CONV2D -> BATCHNORM -> RELU -> MAXPOOL -> CONVBLOCK -> IDBLOCK*2 -> CONVBLOCK -> IDBLOCK*3\n",
    "    -> CONVBLOCK -> IDBLOCK*5 -> CONVBLOCK -> IDBLOCK*2 -> AVGPOOL -> TOPLAYER\n",
    "\n",
    "    Arguments:\n",
    "    input_shape -- shape of the images of the dataset\n",
    "    classes -- integer, number of classes\n",
    "\n",
    "    Returns:\n",
    "    model -- a Model() instance in Keras\n",
    "    \"\"\"\n",
    "\n",
    "    # Define the input as a tensor with shape input_shape\n",
    "    X_input = Input(input_shape)\n",
    "\n",
    "    # Zero-Padding\n",
    "    X = ZeroPadding2D((3, 3))(X_input)\n",
    "\n",
    "    # Stage 1\n",
    "    X = Conv2D(64, (7, 7), strides=(2, 2), name='conv1', kernel_initializer=glorot_uniform(seed=0))(X)\n",
    "    X = BatchNormalization(axis=3, name='bn_conv1')(X)\n",
    "    X = Activation('relu')(X)\n",
    "    X = MaxPooling2D((3, 3), strides=(2, 2))(X)\n",
    "\n",
    "    # Stage 2\n",
    "    X = convolutional_block(X, f=3, filters=[64, 64, 256], stage=2, block='a', s=1)\n",
    "    X = identity_block(X, 3, [64, 64, 256], stage=2, block='b')\n",
    "    X = identity_block(X, 3, [64, 64, 256], stage=2, block='c')\n",
    "\n",
    "    ### START CODE HERE ###\n",
    "\n",
    "    # Stage 3 (≈4 lines)\n",
    "    X = convolutional_block(X, f = 3, filters = [128, 128, 512], stage = 3, block='a', s = 2)\n",
    "    X = identity_block(X, 3, [128, 128, 512], stage=3, block='b')\n",
    "    X = identity_block(X, 3, [128, 128, 512], stage=3, block='c')\n",
    "    X = identity_block(X, 3, [128, 128, 512], stage=3, block='d')\n",
    "\n",
    "    # Stage 4 (≈6 lines)\n",
    "    X = convolutional_block(X, f = 3, filters = [256, 256, 1024], stage = 4, block='a', s = 2)\n",
    "    X = identity_block(X, 3, [256, 256, 1024], stage=4, block='b')\n",
    "    X = identity_block(X, 3, [256, 256, 1024], stage=4, block='c')\n",
    "    X = identity_block(X, 3, [256, 256, 1024], stage=4, block='d')\n",
    "    X = identity_block(X, 3, [256, 256, 1024], stage=4, block='e')\n",
    "    X = identity_block(X, 3, [256, 256, 1024], stage=4, block='f')\n",
    "\n",
    "    # Stage 5 (≈3 lines)\n",
    "    X = convolutional_block(X, f = 3, filters = [512, 512, 2048], stage = 5, block='a', s = 2)\n",
    "    X = identity_block(X, 3, [512, 512, 2048], stage=5, block='b')\n",
    "    X = identity_block(X, 3, [512, 512, 2048], stage=5, block='c')\n",
    "\n",
    "    # AVGPOOL (≈1 line). Use \"X = AveragePooling2D(...)(X)\"\n",
    "    X = AveragePooling2D((2,2), name=\"avg_pool\")(X)\n",
    "\n",
    "    ### END CODE HERE ###\n",
    "\n",
    "    # output layer\n",
    "    X = Flatten()(X)\n",
    "\n",
    "    X = Dense(classes, activation='softmax', name='fc' + str(classes), kernel_initializer = glorot_uniform(seed=0))(X)\n",
    "    \n",
    "    \n",
    "    # Create model\n",
    "    model = Model(inputs = X_input, outputs = X, name='ResNet50')\n",
    "\n",
    "    return model"
   ]
  },
  {
   "cell_type": "code",
   "execution_count": null,
   "metadata": {},
   "outputs": [],
   "source": [
    "# print(\"My Custom ResNet50 model:\")\n",
    "# plot_model(ResNet50(), to_file='custom-resnet-50.png', show_shapes=True, show_layer_names=True)"
   ]
  },
  {
   "cell_type": "code",
   "execution_count": 15,
   "metadata": {},
   "outputs": [],
   "source": [
    "resnet_50 = ResNet50(input_shape = (128, 128, 1), classes = 14)\n",
    "\n",
    "resnet_50.compile(optimizer='adam', \n",
    "              loss='binary_crossentropy', \n",
    "              metrics=['accuracy']\n",
    "             )"
   ]
  },
  {
   "cell_type": "code",
   "execution_count": 16,
   "metadata": {},
   "outputs": [],
   "source": [
    "# filepath contains location for storing keras models with the lowwest loss function after every 10 epoch\n",
    "filepath=\"models/weights-resnet50-size-12800-{epoch:02d}-{val_loss:.2f}-{val_acc:.2f}.hdf5\"\n",
    "tensor_log_name = f\"resnet50-12800-dataset-{int(time.time())}\"\n",
    "checkpoint = ModelCheckpoint(filepath, \n",
    "                             monitor='val_loss', \n",
    "                             verbose=1, \n",
    "                             save_best_only=True, \n",
    "                             mode='min',\n",
    "                             period=10\n",
    "                            )\n",
    "#                           save_freq=5\n",
    "\n",
    "tensorboard = TensorBoard(log_dir = f'logs/{tensor_log_name}', histogram_freq=0, batch_size=32)"
   ]
  },
  {
   "cell_type": "code",
   "execution_count": 17,
   "metadata": {},
   "outputs": [
    {
     "name": "stdout",
     "output_type": "stream",
     "text": [
      "Epoch 1/50\n",
      "400/400 [==============================] - 87s 218ms/step - loss: 0.6170 - acc: 0.8335 - val_loss: 0.6334 - val_acc: 0.7885\n",
      "Epoch 2/50\n",
      "400/400 [==============================] - 82s 204ms/step - loss: 0.5679 - acc: 0.8341 - val_loss: 0.6467 - val_acc: 0.7885\n",
      "Epoch 3/50\n",
      "400/400 [==============================] - 82s 205ms/step - loss: 0.5026 - acc: 0.8352 - val_loss: 0.6032 - val_acc: 0.7879\n",
      "Epoch 4/50\n",
      "400/400 [==============================] - 82s 205ms/step - loss: 0.5260 - acc: 0.8338 - val_loss: 0.6062 - val_acc: 0.7882\n",
      "Epoch 5/50\n",
      "400/400 [==============================] - 82s 205ms/step - loss: 0.5227 - acc: 0.8351 - val_loss: 0.6418 - val_acc: 0.7879\n",
      "Epoch 6/50\n",
      "400/400 [==============================] - 83s 207ms/step - loss: 0.5158 - acc: 0.8351 - val_loss: 0.6174 - val_acc: 0.7891\n",
      "Epoch 7/50\n",
      "400/400 [==============================] - 83s 207ms/step - loss: 0.5069 - acc: 0.8353 - val_loss: 0.6048 - val_acc: 0.7885\n",
      "Epoch 8/50\n",
      "400/400 [==============================] - 85s 211ms/step - loss: 0.4992 - acc: 0.8354 - val_loss: 0.6278 - val_acc: 0.7891\n",
      "Epoch 9/50\n",
      "400/400 [==============================] - 83s 208ms/step - loss: 0.4871 - acc: 0.8354 - val_loss: 0.5647 - val_acc: 0.7891\n",
      "Epoch 10/50\n",
      "400/400 [==============================] - 85s 212ms/step - loss: 0.4168 - acc: 0.8362 - val_loss: 0.5609 - val_acc: 0.7891\n",
      "\n",
      "Epoch 00010: val_loss improved from inf to 0.56091, saving model to models/weights-resnet50-size-12800-10-0.56-0.79.hdf5\n",
      "Epoch 11/50\n",
      "400/400 [==============================] - 82s 205ms/step - loss: 0.4148 - acc: 0.8362 - val_loss: 0.5631 - val_acc: 0.7891\n",
      "Epoch 12/50\n",
      "400/400 [==============================] - 85s 213ms/step - loss: 0.4139 - acc: 0.8362 - val_loss: 0.5624 - val_acc: 0.7891\n",
      "Epoch 13/50\n",
      "400/400 [==============================] - 85s 213ms/step - loss: 0.4130 - acc: 0.8362 - val_loss: 0.5605 - val_acc: 0.7891\n",
      "Epoch 14/50\n",
      "400/400 [==============================] - 86s 214ms/step - loss: 0.4122 - acc: 0.8362 - val_loss: 0.5595 - val_acc: 0.7891\n",
      "Epoch 15/50\n",
      "400/400 [==============================] - 84s 209ms/step - loss: 0.4113 - acc: 0.8362 - val_loss: 0.5599 - val_acc: 0.7891\n",
      "Epoch 16/50\n",
      "400/400 [==============================] - 86s 214ms/step - loss: 0.4106 - acc: 0.8362 - val_loss: 0.5608 - val_acc: 0.7891\n",
      "Epoch 17/50\n",
      "400/400 [==============================] - 85s 213ms/step - loss: 0.4098 - acc: 0.8362 - val_loss: 0.5596 - val_acc: 0.7891\n",
      "Epoch 18/50\n",
      "400/400 [==============================] - 83s 209ms/step - loss: 0.4088 - acc: 0.8362 - val_loss: 0.5579 - val_acc: 0.7891\n",
      "Epoch 19/50\n",
      "400/400 [==============================] - 86s 214ms/step - loss: 0.4082 - acc: 0.8362 - val_loss: 0.5593 - val_acc: 0.7891\n",
      "Epoch 20/50\n",
      "400/400 [==============================] - 86s 214ms/step - loss: 0.4074 - acc: 0.8362 - val_loss: 0.5580 - val_acc: 0.7891\n",
      "\n",
      "Epoch 00020: val_loss improved from 0.56091 to 0.55798, saving model to models/weights-resnet50-size-12800-20-0.56-0.79.hdf5\n",
      "Epoch 21/50\n",
      "400/400 [==============================] - 85s 212ms/step - loss: 0.4067 - acc: 0.8362 - val_loss: 0.5593 - val_acc: 0.7891\n",
      "Epoch 22/50\n",
      "400/400 [==============================] - 88s 219ms/step - loss: 0.4060 - acc: 0.8362 - val_loss: 0.5616 - val_acc: 0.7891\n",
      "Epoch 23/50\n",
      "400/400 [==============================] - 85s 212ms/step - loss: 0.4052 - acc: 0.8362 - val_loss: 0.5564 - val_acc: 0.7891\n",
      "Epoch 24/50\n",
      "400/400 [==============================] - 86s 215ms/step - loss: 0.4041 - acc: 0.8362 - val_loss: 0.5588 - val_acc: 0.7891\n",
      "Epoch 25/50\n",
      "400/400 [==============================] - 85s 214ms/step - loss: 0.4032 - acc: 0.8362 - val_loss: 0.5566 - val_acc: 0.7891\n",
      "Epoch 26/50\n",
      "400/400 [==============================] - 84s 210ms/step - loss: 0.4026 - acc: 0.8362 - val_loss: 0.5586 - val_acc: 0.7891\n",
      "Epoch 27/50\n",
      "400/400 [==============================] - 85s 212ms/step - loss: 0.4015 - acc: 0.8362 - val_loss: 0.5615 - val_acc: 0.7891\n",
      "Epoch 28/50\n",
      "400/400 [==============================] - 86s 215ms/step - loss: 0.4008 - acc: 0.8363 - val_loss: 0.5611 - val_acc: 0.7891\n",
      "Epoch 29/50\n",
      "400/400 [==============================] - 86s 215ms/step - loss: 0.3997 - acc: 0.8363 - val_loss: 0.5631 - val_acc: 0.7891\n",
      "Epoch 30/50\n",
      "400/400 [==============================] - 85s 212ms/step - loss: 0.3990 - acc: 0.8363 - val_loss: 0.5588 - val_acc: 0.7891\n",
      "\n",
      "Epoch 00030: val_loss did not improve from 0.55798\n",
      "Epoch 31/50\n",
      "400/400 [==============================] - 87s 218ms/step - loss: 0.3979 - acc: 0.8364 - val_loss: 0.5640 - val_acc: 0.7891\n",
      "Epoch 32/50\n",
      "400/400 [==============================] - 84s 211ms/step - loss: 0.3971 - acc: 0.8364 - val_loss: 0.5643 - val_acc: 0.7891\n",
      "Epoch 33/50\n",
      "400/400 [==============================] - 85s 213ms/step - loss: 0.3958 - acc: 0.8364 - val_loss: 0.5607 - val_acc: 0.7891\n",
      "Epoch 34/50\n",
      "400/400 [==============================] - 85s 212ms/step - loss: 0.3952 - acc: 0.8364 - val_loss: 0.5606 - val_acc: 0.7891\n",
      "Epoch 35/50\n",
      "400/400 [==============================] - 84s 210ms/step - loss: 0.3943 - acc: 0.8364 - val_loss: 0.5643 - val_acc: 0.7891\n",
      "Epoch 36/50\n",
      "400/400 [==============================] - 87s 218ms/step - loss: 0.3932 - acc: 0.8364 - val_loss: 0.5620 - val_acc: 0.7891\n",
      "Epoch 37/50\n",
      "400/400 [==============================] - 86s 216ms/step - loss: 0.3915 - acc: 0.8364 - val_loss: 0.5627 - val_acc: 0.7891\n",
      "Epoch 38/50\n",
      "400/400 [==============================] - 85s 214ms/step - loss: 0.3903 - acc: 0.8365 - val_loss: 0.5655 - val_acc: 0.7891\n",
      "Epoch 39/50\n",
      "400/400 [==============================] - 87s 217ms/step - loss: 0.3885 - acc: 0.8366 - val_loss: 0.5671 - val_acc: 0.7891\n",
      "Epoch 40/50\n",
      "400/400 [==============================] - 85s 212ms/step - loss: 0.3873 - acc: 0.8369 - val_loss: 0.5686 - val_acc: 0.7894\n",
      "\n",
      "Epoch 00040: val_loss did not improve from 0.55798\n",
      "Epoch 41/50\n",
      "400/400 [==============================] - 84s 211ms/step - loss: 0.3855 - acc: 0.8369 - val_loss: 0.5679 - val_acc: 0.7891\n",
      "Epoch 42/50\n",
      "400/400 [==============================] - 86s 214ms/step - loss: 0.3849 - acc: 0.8368 - val_loss: 0.5688 - val_acc: 0.7894\n",
      "Epoch 43/50\n",
      "400/400 [==============================] - 88s 221ms/step - loss: 0.3826 - acc: 0.8371 - val_loss: 0.5768 - val_acc: 0.7894\n",
      "Epoch 44/50\n",
      "400/400 [==============================] - 86s 216ms/step - loss: 0.3803 - acc: 0.8372 - val_loss: 0.5760 - val_acc: 0.7894\n",
      "Epoch 45/50\n",
      "400/400 [==============================] - 86s 215ms/step - loss: 0.3783 - acc: 0.8374 - val_loss: 0.5894 - val_acc: 0.7879\n",
      "Epoch 46/50\n",
      "400/400 [==============================] - 86s 215ms/step - loss: 0.3754 - acc: 0.8377 - val_loss: 0.5963 - val_acc: 0.7897\n",
      "Epoch 47/50\n",
      "400/400 [==============================] - 85s 213ms/step - loss: 0.3720 - acc: 0.8381 - val_loss: 0.6032 - val_acc: 0.7872\n",
      "Epoch 48/50\n",
      "400/400 [==============================] - 85s 213ms/step - loss: 0.3693 - acc: 0.8385 - val_loss: 0.6020 - val_acc: 0.7900\n",
      "Epoch 49/50\n",
      "400/400 [==============================] - 85s 212ms/step - loss: 0.3659 - acc: 0.8385 - val_loss: 0.6063 - val_acc: 0.7888\n",
      "Epoch 50/50\n",
      "400/400 [==============================] - 85s 213ms/step - loss: 0.3613 - acc: 0.8392 - val_loss: 0.6262 - val_acc: 0.7909\n",
      "\n",
      "Epoch 00050: val_loss did not improve from 0.55798\n",
      "--- 4339.461570978165 seconds ---\n"
     ]
    }
   ],
   "source": [
    "start_time = time.time()\n",
    "\n",
    "resnet_50_history = resnet_50.fit_generator(\n",
    "        train_generator,    \n",
    "        steps_per_epoch=400,\n",
    "        epochs=50,\n",
    "        validation_data=validation_generator,\n",
    "        validation_steps=2,\n",
    "        callbacks=[checkpoint, tensorboard]\n",
    ")\n",
    "\n",
    "print(\"--- %s seconds ---\" % (time.time() - start_time))"
   ]
  },
  {
   "cell_type": "code",
   "execution_count": 18,
   "metadata": {},
   "outputs": [
    {
     "data": {
      "image/png": "[encoded data removed]",
      "text/plain": [
       "<Figure size 432x288 with 1 Axes>"
      ]
     },
     "metadata": {
      "needs_background": "light"
     },
     "output_type": "display_data"
    }
   ],
   "source": [
    "import matplotlib.pyplot as plt\n",
    "\n",
    "# Plot history: MAE\n",
    "plt.plot(resnet_50_history.history['loss'], label='loss (training data)')\n",
    "plt.plot(resnet_50_history.history['val_loss'], label='loss (validation data)')\n",
    "plt.title('Loss for Chest Xray dataset with resnet 50')\n",
    "plt.ylabel('Loss value')\n",
    "plt.xlabel('No. epoch')\n",
    "plt.legend(loc=\"upper left\")\n",
    "plt.show()"
   ]
  },
  {
   "cell_type": "code",
   "execution_count": 19,
   "metadata": {},
   "outputs": [
    {
     "data": {
      "image/png": "[encoded data removed]",
      "text/plain": [
       "<Figure size 432x288 with 1 Axes>"
      ]
     },
     "metadata": {
      "needs_background": "light"
     },
     "output_type": "display_data"
    }
   ],
   "source": [
    "# Plot history: MAE\n",
    "plt.plot(resnet_50_history.history['acc'], label='training acc')\n",
    "plt.title('Accuracy for test dataset with resnet 50')\n",
    "plt.ylabel('Accuracy value')\n",
    "plt.xlabel('No. epoch')\n",
    "plt.legend(loc=\"upper left\")\n",
    "plt.show()"
   ]
  },
  {
   "cell_type": "code",
   "execution_count": 20,
   "metadata": {},
   "outputs": [
    {
     "data": {
      "image/png": "[encoded data removed]",
      "text/plain": [
       "<Figure size 432x288 with 1 Axes>"
      ]
     },
     "metadata": {
      "needs_background": "light"
     },
     "output_type": "display_data"
    }
   ],
   "source": [
    "# Plot history: MAE\n",
    "plt.plot(resnet_50_history.history['val_acc'], label='validation acc')\n",
    "plt.title('Accuracy for Validation dataset with resnet 50')\n",
    "plt.ylabel('Accuracy value')\n",
    "plt.xlabel('No. epoch')\n",
    "plt.legend(loc=\"upper left\")\n",
    "plt.show()"
   ]
  },
  {
   "cell_type": "code",
   "execution_count": 21,
   "metadata": {},
   "outputs": [],
   "source": [
    "# save complete model\n",
    "resnet_50.save('models/complete-model/custom_resNet_50_12800.h5')"
   ]
  },
  {
   "cell_type": "code",
   "execution_count": 22,
   "metadata": {},
   "outputs": [],
   "source": [
    "# save model weight hdf5\n",
    "resnet_50.save_weights('models/model-weight/custom_resNet_50_12800.hdf5')"
   ]
  },
  {
   "cell_type": "code",
   "execution_count": 23,
   "metadata": {},
   "outputs": [],
   "source": [
    "# resnet_50_history\n",
    "pickle_out = open(\"pickle-history/resnet_50_history_12800.pickle\", \"wb\")\n",
    "pickle.dump(resnet_50_history, pickle_out)\n",
    "pickle_out.close()"
   ]
  },
  {
   "cell_type": "markdown",
   "metadata": {},
   "source": [
    "### Evaluation resnet 50 model"
   ]
  },
  {
   "cell_type": "code",
   "execution_count": 24,
   "metadata": {},
   "outputs": [],
   "source": [
    "# Loading model with the lowwest validation loss\n",
    "loaded_resnet_50 = load_model('models/weights-resnet50-size-12800-20-0.56-0.79.hdf5')"
   ]
  },
  {
   "cell_type": "code",
   "execution_count": 25,
   "metadata": {},
   "outputs": [],
   "source": [
    "valid_df = pd.read_csv(\"CheXpert-v1.0-small/valid.csv\")\n",
    "y_true = valid_df.iloc[:,5:].values"
   ]
  },
  {
   "cell_type": "code",
   "execution_count": 26,
   "metadata": {},
   "outputs": [],
   "source": [
    "y_pred_50 = loaded_resnet_50.predict_generator(validation_generator, steps=2)"
   ]
  },
  {
   "cell_type": "code",
   "execution_count": 27,
   "metadata": {},
   "outputs": [
    {
     "data": {
      "text/plain": [
       "array([[1.3338190e-02, 2.3900554e-02, 5.8958519e-02, ..., 6.1328746e-03,\n",
       "        1.1736238e-02, 2.6024479e-01],\n",
       "       [3.2342251e-02, 3.6295522e-02, 4.3736201e-02, ..., 1.1761431e-04,\n",
       "        4.6863635e-03, 2.1805809e-01],\n",
       "       [1.4757283e-02, 2.5504967e-02, 6.5069929e-02, ..., 4.2212154e-03,\n",
       "        9.3372371e-03, 1.7161709e-01],\n",
       "       ...,\n",
       "       [3.6248134e-03, 1.4768582e-02, 4.7524530e-02, ..., 1.7706882e-03,\n",
       "        4.1505890e-03, 1.8973148e-01],\n",
       "       [1.2223029e-02, 2.2369204e-02, 7.5194344e-02, ..., 7.2747171e-03,\n",
       "        1.2490416e-02, 2.1531220e-01],\n",
       "       [1.9193312e-02, 2.1280354e-02, 3.3837534e-02, ..., 9.3339058e-03,\n",
       "        1.5750196e-02, 2.2688818e-01]], dtype=float32)"
      ]
     },
     "execution_count": 27,
     "metadata": {},
     "output_type": "execute_result"
    }
   ],
   "source": [
    "y_pred_50"
   ]
  },
  {
   "cell_type": "code",
   "execution_count": 28,
   "metadata": {},
   "outputs": [],
   "source": [
    "# Applying theshold to predicted results\n",
    "y_pred_50_round = np.where(y_pred_50 > 0.1, 1, 0)\n",
    "y_pred_50_round_0_15 = np.where(y_pred_50 > 0.15, 1, 0)\n",
    "y_pred_50_round_0_2 = np.where(y_pred_50 > 0.2, 1, 0)"
   ]
  },
  {
   "cell_type": "code",
   "execution_count": 29,
   "metadata": {},
   "outputs": [],
   "source": [
    "label = ['no_finding',\n",
    "         'enlarged_cardiomediastinum',\n",
    "         'cardiomegaly',\n",
    "         'lung_opacity',\n",
    "         'lung_lesion',\n",
    "         'edema','consolidation',\n",
    "         'pneumonia',\n",
    "         'atelectasis',\n",
    "         'pneumothorax',\n",
    "         'pleural_effusion',\n",
    "         'pleural_other',\n",
    "         'fracture',\n",
    "         'support_devices'\n",
    "        ]"
   ]
  },
  {
   "cell_type": "code",
   "execution_count": 30,
   "metadata": {},
   "outputs": [
    {
     "data": {
      "text/plain": [
       "array([[[183,  13],\n",
       "        [ 34,   4]],\n",
       "\n",
       "       [[125,   0],\n",
       "        [109,   0]],\n",
       "\n",
       "       [[166,   0],\n",
       "        [ 68,   0]],\n",
       "\n",
       "       [[  5, 103],\n",
       "        [  3, 123]],\n",
       "\n",
       "       [[233,   0],\n",
       "        [  1,   0]],\n",
       "\n",
       "       [[188,   1],\n",
       "        [ 45,   0]],\n",
       "\n",
       "       [[201,   0],\n",
       "        [ 33,   0]],\n",
       "\n",
       "       [[226,   0],\n",
       "        [  8,   0]],\n",
       "\n",
       "       [[154,   0],\n",
       "        [ 80,   0]],\n",
       "\n",
       "       [[226,   0],\n",
       "        [  8,   0]],\n",
       "\n",
       "       [[ 59, 108],\n",
       "        [ 33,  34]],\n",
       "\n",
       "       [[233,   0],\n",
       "        [  1,   0]],\n",
       "\n",
       "       [[234,   0],\n",
       "        [  0,   0]],\n",
       "\n",
       "       [[ 10, 117],\n",
       "        [ 15,  92]]], dtype=int64)"
      ]
     },
     "execution_count": 30,
     "metadata": {},
     "output_type": "execute_result"
    }
   ],
   "source": [
    "from sklearn.metrics import multilabel_confusion_matrix\n",
    "\n",
    "multilabel_confusion_matrix(y_true, y_pred_50_round_0_15)"
   ]
  },
  {
   "cell_type": "code",
   "execution_count": 31,
   "metadata": {},
   "outputs": [
    {
     "name": "stdout",
     "output_type": "stream",
     "text": [
      "                            precision    recall  f1-score   support\n",
      "\n",
      "                no_finding       0.12      0.13      0.13        38\n",
      "enlarged_cardiomediastinum       0.00      0.00      0.00       109\n",
      "              cardiomegaly       0.17      0.03      0.05        68\n",
      "              lung_opacity       0.54      1.00      0.70       126\n",
      "               lung_lesion       0.00      0.00      0.00         1\n",
      "                     edema       0.16      0.20      0.18        45\n",
      "             consolidation       0.00      0.00      0.00        33\n",
      "                 pneumonia       0.00      0.00      0.00         8\n",
      "               atelectasis       0.12      0.01      0.02        80\n",
      "              pneumothorax       0.33      0.12      0.18         8\n",
      "          pleural_effusion       0.27      0.85      0.41        67\n",
      "             pleural_other       0.00      0.00      0.00         1\n",
      "                  fracture       0.00      0.00      0.00         0\n",
      "           support_devices       0.46      1.00      0.63       107\n",
      "\n",
      "                 micro avg       0.39      0.45      0.41       691\n",
      "                 macro avg       0.16      0.24      0.16       691\n",
      "              weighted avg       0.25      0.45      0.29       691\n",
      "               samples avg       0.39      0.46      0.38       691\n",
      "\n"
     ]
    },
    {
     "name": "stderr",
     "output_type": "stream",
     "text": [
      "C:\\Users\\Appzone-MLG\\Anaconda3\\envs\\chest_xray_env\\lib\\site-packages\\sklearn\\metrics\\_classification.py:1268: UndefinedMetricWarning: Precision and F-score are ill-defined and being set to 0.0 in labels with no predicted samples. Use `zero_division` parameter to control this behavior.\n",
      "  _warn_prf(average, modifier, msg_start, len(result))\n",
      "C:\\Users\\Appzone-MLG\\Anaconda3\\envs\\chest_xray_env\\lib\\site-packages\\sklearn\\metrics\\_classification.py:1268: UndefinedMetricWarning: Recall and F-score are ill-defined and being set to 0.0 in labels with no true samples. Use `zero_division` parameter to control this behavior.\n",
      "  _warn_prf(average, modifier, msg_start, len(result))\n",
      "C:\\Users\\Appzone-MLG\\Anaconda3\\envs\\chest_xray_env\\lib\\site-packages\\sklearn\\metrics\\_classification.py:1268: UndefinedMetricWarning: Recall and F-score are ill-defined and being set to 0.0 in samples with no true labels. Use `zero_division` parameter to control this behavior.\n",
      "  _warn_prf(average, modifier, msg_start, len(result))\n"
     ]
    }
   ],
   "source": [
    "from sklearn.metrics import classification_report\n",
    "\n",
    "print(classification_report(y_true, y_pred_50_round, target_names=label))"
   ]
  },
  {
   "cell_type": "code",
   "execution_count": 32,
   "metadata": {},
   "outputs": [
    {
     "name": "stdout",
     "output_type": "stream",
     "text": [
      "                            precision    recall  f1-score   support\n",
      "\n",
      "                no_finding       0.24      0.11      0.15        38\n",
      "enlarged_cardiomediastinum       0.00      0.00      0.00       109\n",
      "              cardiomegaly       0.00      0.00      0.00        68\n",
      "              lung_opacity       0.54      0.98      0.70       126\n",
      "               lung_lesion       0.00      0.00      0.00         1\n",
      "                     edema       0.00      0.00      0.00        45\n",
      "             consolidation       0.00      0.00      0.00        33\n",
      "                 pneumonia       0.00      0.00      0.00         8\n",
      "               atelectasis       0.00      0.00      0.00        80\n",
      "              pneumothorax       0.00      0.00      0.00         8\n",
      "          pleural_effusion       0.24      0.51      0.33        67\n",
      "             pleural_other       0.00      0.00      0.00         1\n",
      "                  fracture       0.00      0.00      0.00         0\n",
      "           support_devices       0.44      0.86      0.58       107\n",
      "\n",
      "                 micro avg       0.43      0.37      0.39       691\n",
      "                 macro avg       0.10      0.17      0.13       691\n",
      "              weighted avg       0.20      0.37      0.26       691\n",
      "               samples avg       0.45      0.39      0.36       691\n",
      "\n"
     ]
    }
   ],
   "source": [
    "print(classification_report(y_true, y_pred_50_round_0_15, target_names=label))"
   ]
  },
  {
   "cell_type": "code",
   "execution_count": 33,
   "metadata": {},
   "outputs": [
    {
     "data": {
      "text/plain": [
       "0.9230769230769231"
      ]
     },
     "execution_count": 33,
     "metadata": {},
     "output_type": "execute_result"
    }
   ],
   "source": [
    "from sklearn.metrics import roc_auc_score\n",
    "roc_auc_score(y_true[1], y_pred_50_round[1])\n",
    "# rocs = []\n",
    "# for i in range(234):\n",
    "#     rocs.append(roc_auc_score(y_true[i], y_pred_50_round[i]))\n",
    "# avg_roc = sum(rocs)/234\n",
    "# print(avg_roc)"
   ]
  },
  {
   "cell_type": "code",
   "execution_count": 34,
   "metadata": {},
   "outputs": [
    {
     "data": {
      "text/plain": [
       "0.7142857142857143"
      ]
     },
     "execution_count": 34,
     "metadata": {},
     "output_type": "execute_result"
    }
   ],
   "source": [
    "from sklearn.metrics import accuracy_score\n",
    "\n",
    "accuracy_score(y_true[0], y_pred_50_round_0_15[0])"
   ]
  },
  {
   "cell_type": "code",
   "execution_count": 35,
   "metadata": {},
   "outputs": [
    {
     "name": "stdout",
     "output_type": "stream",
     "text": [
      "0.7338217338217337\n"
     ]
    }
   ],
   "source": [
    "accs = []\n",
    "\n",
    "for i in range(234):\n",
    "    accs.append(accuracy_score(y_true[i], y_pred_50_round[i]))\n",
    "    \n",
    "avg_acc = sum(accs)/234\n",
    "\n",
    "print(avg_acc)"
   ]
  },
  {
   "cell_type": "code",
   "execution_count": null,
   "metadata": {},
   "outputs": [],
   "source": []
  },
  {
   "cell_type": "code",
   "execution_count": null,
   "metadata": {},
   "outputs": [],
   "source": []
  },
  {
   "cell_type": "code",
   "execution_count": null,
   "metadata": {},
   "outputs": [],
   "source": []
  },
  {
   "cell_type": "code",
   "execution_count": null,
   "metadata": {},
   "outputs": [],
   "source": []
  },
  {
   "cell_type": "code",
   "execution_count": null,
   "metadata": {},
   "outputs": [],
   "source": []
  },
  {
   "cell_type": "code",
   "execution_count": null,
   "metadata": {},
   "outputs": [],
   "source": [
    "# loading and testing the pickle\n",
    "pickle_in = open(\"pickle-history/resnet_50_history_12800.pickle\",\"rb\")\n",
    "loaded_resent_50_history = pickle.load(pickle_in)"
   ]
  },
  {
   "cell_type": "markdown",
   "metadata": {},
   "source": [
    "### Implementing the ResNet101 model"
   ]
  },
  {
   "cell_type": "code",
   "execution_count": 36,
   "metadata": {},
   "outputs": [],
   "source": [
    "def ResNet101(input_shape=(64, 64, 1), classes=14):\n",
    "    \"\"\"\n",
    "    Implementation of the popular ResNet50 the following architecture:\n",
    "    CONV2D -> BATCHNORM -> RELU -> MAXPOOL -> CONVBLOCK -> IDBLOCK*2 -> CONVBLOCK -> IDBLOCK*3\n",
    "    -> CONVBLOCK -> IDBLOCK*5 -> CONVBLOCK -> IDBLOCK*2 -> AVGPOOL -> TOPLAYER\n",
    "\n",
    "    Arguments:\n",
    "    input_shape -- shape of the images of the dataset\n",
    "    classes -- integer, number of classes\n",
    "\n",
    "    Returns:\n",
    "    model -- a Model() instance in Keras\n",
    "    \"\"\"\n",
    "\n",
    "    # Define the input as a tensor with shape input_shape\n",
    "    X_input = Input(input_shape)\n",
    "\n",
    "    # Zero-Padding\n",
    "    X = ZeroPadding2D((3, 3))(X_input)\n",
    "\n",
    "    # Stage 1\n",
    "    X = Conv2D(64, (7, 7), strides=(2, 2), name='conv1', kernel_initializer=glorot_uniform(seed=0))(X)\n",
    "    X = BatchNormalization(axis=3, name='bn_conv1')(X)\n",
    "    X = Activation('relu')(X)\n",
    "    X = MaxPooling2D((3, 3), strides=(2, 2))(X)\n",
    "\n",
    "    # Stage 2\n",
    "    X = convolutional_block(X, f=3, filters=[64, 64, 256], stage=2, block='a', s=1)\n",
    "    X = identity_block(X, 3, [64, 64, 256], stage=2, block='b')\n",
    "    X = identity_block(X, 3, [64, 64, 256], stage=2, block='c')\n",
    "\n",
    "    ### START CODE HERE ###\n",
    "\n",
    "    # Stage 3 (≈4 lines)\n",
    "    X = convolutional_block(X, f = 3, filters = [128, 128, 512], stage = 3, block='a', s = 2)\n",
    "    X = identity_block(X, 3, [128, 128, 512], stage=3, block='b')\n",
    "    X = identity_block(X, 3, [128, 128, 512], stage=3, block='c')\n",
    "    X = identity_block(X, 3, [128, 128, 512], stage=3, block='d')\n",
    "\n",
    "    # Stage 4 (≈6 lines)\n",
    "    X = convolutional_block(X, f = 3, filters = [256, 256, 1024], stage = 4, block='a', s = 2)\n",
    "    X = identity_block(X, 3, [256, 256, 1024], stage=4, block='b')\n",
    "    X = identity_block(X, 3, [256, 256, 1024], stage=4, block='c')\n",
    "    X = identity_block(X, 3, [256, 256, 1024], stage=4, block='d')\n",
    "    X = identity_block(X, 3, [256, 256, 1024], stage=4, block='e')\n",
    "    X = identity_block(X, 3, [256, 256, 1024], stage=4, block='f')\n",
    "    X = identity_block(X, 3, [256, 256, 1024], stage=4, block='g')\n",
    "    X = identity_block(X, 3, [256, 256, 1024], stage=4, block='h')\n",
    "    X = identity_block(X, 3, [256, 256, 1024], stage=4, block='i')\n",
    "    X = identity_block(X, 3, [256, 256, 1024], stage=4, block='j')\n",
    "    X = identity_block(X, 3, [256, 256, 1024], stage=4, block='k')\n",
    "    X = identity_block(X, 3, [256, 256, 1024], stage=4, block='l')\n",
    "    X = identity_block(X, 3, [256, 256, 1024], stage=4, block='m')\n",
    "    X = identity_block(X, 3, [256, 256, 1024], stage=4, block='n')\n",
    "    X = identity_block(X, 3, [256, 256, 1024], stage=4, block='o')\n",
    "    X = identity_block(X, 3, [256, 256, 1024], stage=4, block='p')\n",
    "    X = identity_block(X, 3, [256, 256, 1024], stage=4, block='q')\n",
    "    X = identity_block(X, 3, [256, 256, 1024], stage=4, block='r')\n",
    "    X = identity_block(X, 3, [256, 256, 1024], stage=4, block='s')\n",
    "    X = identity_block(X, 3, [256, 256, 1024], stage=4, block='t')\n",
    "    X = identity_block(X, 3, [256, 256, 1024], stage=4, block='u')\n",
    "    X = identity_block(X, 3, [256, 256, 1024], stage=4, block='v')\n",
    "    X = identity_block(X, 3, [256, 256, 1024], stage=4, block='w')\n",
    "    X = identity_block(X, 3, [256, 256, 1024], stage=4, block='x')\n",
    "    X = identity_block(X, 3, [256, 256, 1024], stage=4, block='y')\n",
    "    X = identity_block(X, 3, [256, 256, 1024], stage=4, block='z')\n",
    "\n",
    "    # Stage 5 (≈3 lines)\n",
    "    X = convolutional_block(X, f = 3, filters = [512, 512, 2048], stage = 5, block='a', s = 2)\n",
    "    X = identity_block(X, 3, [512, 512, 2048], stage=5, block='b')\n",
    "    X = identity_block(X, 3, [512, 512, 2048], stage=5, block='c')\n",
    "\n",
    "    # AVGPOOL (≈1 line). Use \"X = AveragePooling2D(...)(X)\"\n",
    "    X = AveragePooling2D((2,2), name=\"avg_pool\")(X)\n",
    "\n",
    "    ### END CODE HERE ###\n",
    "\n",
    "    # output layer\n",
    "    X = Flatten()(X)\n",
    "\n",
    "    X = Dense(classes, activation='softmax', name='fc' + str(classes), kernel_initializer = glorot_uniform(seed=0))(X)\n",
    "    \n",
    "    \n",
    "    # Create model\n",
    "    model = Model(inputs = X_input, outputs = X, name='ResNet101')\n",
    "\n",
    "    return model"
   ]
  },
  {
   "cell_type": "code",
   "execution_count": 37,
   "metadata": {},
   "outputs": [
    {
     "name": "stdout",
     "output_type": "stream",
     "text": [
      "My Custom ResNet101 model:\n"
     ]
    }
   ],
   "source": [
    "print(\"My Custom ResNet101 model:\")\n",
    "plot_model(ResNet101(), to_file='custom-resnet-101.png', show_shapes=True, show_layer_names=True)"
   ]
  },
  {
   "cell_type": "code",
   "execution_count": 38,
   "metadata": {},
   "outputs": [],
   "source": [
    "resnet_101 = ResNet101(input_shape = (128, 128, 1), classes = 14)\n",
    "\n",
    "resnet_101.compile(optimizer='adam', \n",
    "              loss='binary_crossentropy', \n",
    "              metrics=['accuracy']\n",
    "             )"
   ]
  },
  {
   "cell_type": "code",
   "execution_count": 39,
   "metadata": {},
   "outputs": [],
   "source": [
    "# filepath contains location for storing keras models with the lowwest loss function after every 10 epoch\n",
    "filepath=\"models/weights-resnet101-size-6400-{epoch:02d}-{val_loss:.2f}-{val_acc:.2f}.hdf5\"\n",
    "tensor_log_name = f\"resnet101-6400-dataset-{int(time.time())}\"\n",
    "checkpoint = ModelCheckpoint(filepath, \n",
    "                             monitor='val_loss', \n",
    "                             verbose=1, \n",
    "                             save_best_only=True, \n",
    "                             mode='min',\n",
    "                             period=10\n",
    "                            )\n",
    "#                           save_freq=5\n",
    "\n",
    "tensorboard = TensorBoard(log_dir = f'logs/{tensor_log_name}', histogram_freq=0, batch_size=32)"
   ]
  },
  {
   "cell_type": "code",
   "execution_count": 40,
   "metadata": {},
   "outputs": [
    {
     "name": "stdout",
     "output_type": "stream",
     "text": [
      "Epoch 1/50\n",
      "400/400 [==============================] - 164s 409ms/step - loss: 0.6598 - acc: 0.8322 - val_loss: 0.6669 - val_acc: 0.7879\n",
      "Epoch 2/50\n",
      "400/400 [==============================] - 151s 378ms/step - loss: 0.5107 - acc: 0.8358 - val_loss: 0.6021 - val_acc: 0.7894\n",
      "Epoch 3/50\n",
      "400/400 [==============================] - 151s 378ms/step - loss: 0.5200 - acc: 0.8349 - val_loss: 0.6200 - val_acc: 0.7885\n",
      "Epoch 4/50\n",
      "400/400 [==============================] - 152s 380ms/step - loss: 0.5131 - acc: 0.8354 - val_loss: 0.6553 - val_acc: 0.7888\n",
      "Epoch 5/50\n",
      "400/400 [==============================] - 152s 379ms/step - loss: 0.5216 - acc: 0.8355 - val_loss: 0.5818 - val_acc: 0.7891\n",
      "Epoch 6/50\n",
      "400/400 [==============================] - 152s 381ms/step - loss: 0.4971 - acc: 0.8352 - val_loss: 0.6276 - val_acc: 0.7894\n",
      "Epoch 7/50\n",
      "400/400 [==============================] - 154s 384ms/step - loss: 0.4485 - acc: 0.8354 - val_loss: 0.5792 - val_acc: 0.7891\n",
      "Epoch 8/50\n",
      "400/400 [==============================] - 155s 388ms/step - loss: 0.4201 - acc: 0.8362 - val_loss: 0.5689 - val_acc: 0.7891\n",
      "Epoch 9/50\n",
      "400/400 [==============================] - 156s 389ms/step - loss: 0.4185 - acc: 0.8362 - val_loss: 0.5698 - val_acc: 0.7891\n",
      "Epoch 10/50\n",
      "400/400 [==============================] - 154s 384ms/step - loss: 0.4168 - acc: 0.8362 - val_loss: 0.5690 - val_acc: 0.7891\n",
      "\n",
      "Epoch 00010: val_loss improved from inf to 0.56898, saving model to models/weights-resnet101-size-6400-10-0.57-0.79.hdf5\n",
      "Epoch 11/50\n",
      "400/400 [==============================] - 152s 380ms/step - loss: 0.4149 - acc: 0.8362 - val_loss: 0.5659 - val_acc: 0.7891\n",
      "Epoch 12/50\n",
      "400/400 [==============================] - 154s 385ms/step - loss: 0.4132 - acc: 0.8362 - val_loss: 0.5639 - val_acc: 0.7891\n",
      "Epoch 13/50\n",
      "400/400 [==============================] - 155s 388ms/step - loss: 0.4128 - acc: 0.8362 - val_loss: 0.5623 - val_acc: 0.7891\n",
      "Epoch 14/50\n",
      "400/400 [==============================] - 153s 382ms/step - loss: 0.4119 - acc: 0.8362 - val_loss: 0.5626 - val_acc: 0.7891\n",
      "Epoch 15/50\n",
      "400/400 [==============================] - 154s 384ms/step - loss: 0.4113 - acc: 0.8362 - val_loss: 0.5601 - val_acc: 0.7891\n",
      "Epoch 16/50\n",
      "400/400 [==============================] - 154s 385ms/step - loss: 0.4106 - acc: 0.8362 - val_loss: 0.5604 - val_acc: 0.7891\n",
      "Epoch 17/50\n",
      "400/400 [==============================] - 154s 386ms/step - loss: 0.4100 - acc: 0.8362 - val_loss: 0.5629 - val_acc: 0.7891\n",
      "Epoch 18/50\n",
      "400/400 [==============================] - 156s 391ms/step - loss: 0.4094 - acc: 0.8362 - val_loss: 0.5608 - val_acc: 0.7891\n",
      "Epoch 19/50\n",
      "400/400 [==============================] - 156s 390ms/step - loss: 0.4085 - acc: 0.8362 - val_loss: 0.5590 - val_acc: 0.7891\n",
      "Epoch 20/50\n",
      "400/400 [==============================] - 154s 386ms/step - loss: 0.4076 - acc: 0.8362 - val_loss: 0.5618 - val_acc: 0.7891\n",
      "\n",
      "Epoch 00020: val_loss improved from 0.56898 to 0.56180, saving model to models/weights-resnet101-size-6400-20-0.56-0.79.hdf5\n",
      "Epoch 21/50\n",
      "400/400 [==============================] - 156s 391ms/step - loss: 0.4066 - acc: 0.8363 - val_loss: 0.5581 - val_acc: 0.7891\n",
      "Epoch 22/50\n",
      "400/400 [==============================] - 156s 389ms/step - loss: 0.4057 - acc: 0.8362 - val_loss: 0.5629 - val_acc: 0.7891\n",
      "Epoch 23/50\n",
      "400/400 [==============================] - 155s 388ms/step - loss: 0.4046 - acc: 0.8362 - val_loss: 0.5608 - val_acc: 0.7891\n",
      "Epoch 24/50\n",
      "400/400 [==============================] - 154s 386ms/step - loss: 0.4045 - acc: 0.8362 - val_loss: 0.5616 - val_acc: 0.7891\n",
      "Epoch 25/50\n",
      "400/400 [==============================] - 155s 389ms/step - loss: 0.4033 - acc: 0.8362 - val_loss: 0.5651 - val_acc: 0.7891\n",
      "Epoch 26/50\n",
      "400/400 [==============================] - 156s 390ms/step - loss: 0.4022 - acc: 0.8362 - val_loss: 0.5637 - val_acc: 0.7891\n",
      "Epoch 27/50\n",
      "400/400 [==============================] - 154s 385ms/step - loss: 0.4019 - acc: 0.8362 - val_loss: 0.5650 - val_acc: 0.7891\n",
      "Epoch 28/50\n",
      "400/400 [==============================] - 154s 385ms/step - loss: 0.4004 - acc: 0.8362 - val_loss: 0.5647 - val_acc: 0.7891\n",
      "Epoch 29/50\n",
      "400/400 [==============================] - 156s 390ms/step - loss: 0.3993 - acc: 0.8363 - val_loss: 0.5661 - val_acc: 0.7891\n",
      "Epoch 30/50\n",
      "400/400 [==============================] - 156s 389ms/step - loss: 0.4005 - acc: 0.8362 - val_loss: 0.5647 - val_acc: 0.7891\n",
      "\n",
      "Epoch 00030: val_loss did not improve from 0.56180\n",
      "Epoch 31/50\n",
      "400/400 [==============================] - 159s 397ms/step - loss: 0.3990 - acc: 0.8363 - val_loss: 0.5659 - val_acc: 0.7891\n",
      "Epoch 32/50\n",
      "400/400 [==============================] - 156s 390ms/step - loss: 0.3969 - acc: 0.8363 - val_loss: 0.5720 - val_acc: 0.7891\n",
      "Epoch 33/50\n",
      "400/400 [==============================] - 156s 390ms/step - loss: 0.3951 - acc: 0.8364 - val_loss: 0.5707 - val_acc: 0.7894\n",
      "Epoch 34/50\n",
      "400/400 [==============================] - 156s 390ms/step - loss: 0.3938 - acc: 0.8364 - val_loss: 0.5708 - val_acc: 0.7888\n",
      "Epoch 35/50\n",
      "400/400 [==============================] - 155s 389ms/step - loss: 0.3923 - acc: 0.8363 - val_loss: 0.5769 - val_acc: 0.7888\n",
      "Epoch 36/50\n",
      "400/400 [==============================] - 157s 393ms/step - loss: 0.3909 - acc: 0.8365 - val_loss: 0.5710 - val_acc: 0.7891\n",
      "Epoch 37/50\n",
      "400/400 [==============================] - 156s 389ms/step - loss: 0.3890 - acc: 0.8366 - val_loss: 0.5666 - val_acc: 0.7888\n",
      "Epoch 38/50\n",
      "400/400 [==============================] - 159s 399ms/step - loss: 0.3867 - acc: 0.8367 - val_loss: 0.5743 - val_acc: 0.7891\n",
      "Epoch 39/50\n",
      "400/400 [==============================] - 158s 396ms/step - loss: 0.3842 - acc: 0.8368 - val_loss: 0.5810 - val_acc: 0.7882\n",
      "Epoch 40/50\n",
      "400/400 [==============================] - 156s 390ms/step - loss: 0.3815 - acc: 0.8371 - val_loss: 0.5736 - val_acc: 0.7882\n",
      "\n",
      "Epoch 00040: val_loss did not improve from 0.56180\n",
      "Epoch 41/50\n",
      "400/400 [==============================] - 159s 397ms/step - loss: 0.3806 - acc: 0.8370 - val_loss: 0.5675 - val_acc: 0.7885\n",
      "Epoch 42/50\n",
      "400/400 [==============================] - 157s 392ms/step - loss: 0.3782 - acc: 0.8371 - val_loss: 0.5858 - val_acc: 0.7888\n",
      "Epoch 43/50\n",
      "400/400 [==============================] - 157s 393ms/step - loss: 0.3736 - acc: 0.8376 - val_loss: 0.5781 - val_acc: 0.7891\n",
      "Epoch 44/50\n",
      "400/400 [==============================] - 155s 388ms/step - loss: 0.3691 - acc: 0.8380 - val_loss: 0.5845 - val_acc: 0.7885\n",
      "Epoch 45/50\n",
      "400/400 [==============================] - 158s 396ms/step - loss: 0.3629 - acc: 0.8391 - val_loss: 0.5874 - val_acc: 0.7875\n",
      "Epoch 46/50\n",
      "400/400 [==============================] - 155s 388ms/step - loss: 0.3581 - acc: 0.8398 - val_loss: 0.5898 - val_acc: 0.7885\n",
      "Epoch 47/50\n",
      "400/400 [==============================] - 159s 398ms/step - loss: 0.3522 - acc: 0.8408 - val_loss: 0.5952 - val_acc: 0.7882\n",
      "Epoch 48/50\n",
      "400/400 [==============================] - 156s 390ms/step - loss: 0.3468 - acc: 0.8414 - val_loss: 0.5961 - val_acc: 0.7891\n",
      "Epoch 49/50\n",
      "400/400 [==============================] - 160s 399ms/step - loss: 0.3409 - acc: 0.8428 - val_loss: 0.6042 - val_acc: 0.7872\n",
      "Epoch 50/50\n",
      "400/400 [==============================] - 161s 403ms/step - loss: 0.3361 - acc: 0.8439 - val_loss: 0.5959 - val_acc: 0.7882\n",
      "\n",
      "Epoch 00050: val_loss did not improve from 0.56180\n",
      "--- 8167.2789216041565 seconds ---\n"
     ]
    }
   ],
   "source": [
    "start_time = time.time()\n",
    "\n",
    "resnet_101_history = resnet_101.fit_generator(\n",
    "        train_generator,\n",
    "        steps_per_epoch=400,\n",
    "        epochs=50,\n",
    "        validation_data=validation_generator,\n",
    "        validation_steps=2,\n",
    "        callbacks=[checkpoint, tensorboard]\n",
    ")\n",
    "\n",
    "print(\"--- %s seconds ---\" % (time.time() - start_time))"
   ]
  },
  {
   "cell_type": "code",
   "execution_count": 41,
   "metadata": {},
   "outputs": [
    {
     "data": {
      "image/png": "[encoded data removed]",
      "text/plain": [
       "<Figure size 432x288 with 1 Axes>"
      ]
     },
     "metadata": {
      "needs_background": "light"
     },
     "output_type": "display_data"
    }
   ],
   "source": [
    "# Plot history: Loss\n",
    "plt.plot(resnet_101_history.history['loss'], label='loss (training data)')\n",
    "plt.plot(resnet_101_history.history['val_loss'], label='loss (validation data)')\n",
    "plt.title('Loss for Chest Xray dataset ResNet 101')\n",
    "plt.ylabel('Loss value')\n",
    "plt.xlabel('No. epoch')\n",
    "plt.legend(loc=\"upper left\")\n",
    "plt.show()"
   ]
  },
  {
   "cell_type": "code",
   "execution_count": 42,
   "metadata": {},
   "outputs": [
    {
     "data": {
      "image/png": "[encoded data removed]",
      "text/plain": [
       "<Figure size 432x288 with 1 Axes>"
      ]
     },
     "metadata": {
      "needs_background": "light"
     },
     "output_type": "display_data"
    }
   ],
   "source": [
    "# Plot history: MAE\n",
    "plt.plot(resnet_101_history.history['acc'], label='training acc')\n",
    "plt.title('Accuracy for training dataset ResNet 101')\n",
    "plt.ylabel('Accuracy value')\n",
    "plt.xlabel('No. epoch')\n",
    "plt.legend(loc=\"upper left\")\n",
    "plt.show()"
   ]
  },
  {
   "cell_type": "code",
   "execution_count": 43,
   "metadata": {},
   "outputs": [
    {
     "data": {
      "image/png": "[encoded data removed]",
      "text/plain": [
       "<Figure size 432x288 with 1 Axes>"
      ]
     },
     "metadata": {
      "needs_background": "light"
     },
     "output_type": "display_data"
    }
   ],
   "source": [
    "# Plot history: MAE\n",
    "plt.plot(resnet_101_history.history['val_acc'], label='validation acc')\n",
    "plt.title('Accuracy for Validation dataset with ResNet 101')\n",
    "plt.ylabel('Accuracy value')\n",
    "plt.xlabel('No. epoch')\n",
    "plt.legend(loc=\"upper left\")\n",
    "plt.show()"
   ]
  },
  {
   "cell_type": "code",
   "execution_count": null,
   "metadata": {},
   "outputs": [],
   "source": [
    "# saving history pickle resnet 101 in memory\n",
    "pickle_out = open(\"pickle-history/resnet_101_history_12800.pickle\", \"wb\")\n",
    "pickle.dump(resnet_50_history, pickle_out)\n",
    "pickle_out.close()"
   ]
  },
  {
   "cell_type": "code",
   "execution_count": null,
   "metadata": {},
   "outputs": [],
   "source": [
    "# loading models weights\n",
    "loaded_resnet_50.load_weights()"
   ]
  },
  {
   "cell_type": "code",
   "execution_count": null,
   "metadata": {},
   "outputs": [],
   "source": [
    "Evaluat"
   ]
  },
  {
   "cell_type": "code",
   "execution_count": null,
   "metadata": {},
   "outputs": [],
   "source": []
  },
  {
   "cell_type": "code",
   "execution_count": null,
   "metadata": {},
   "outputs": [],
   "source": []
  },
  {
   "cell_type": "code",
   "execution_count": null,
   "metadata": {},
   "outputs": [],
   "source": []
  },
  {
   "cell_type": "markdown",
   "metadata": {},
   "source": [
    "### Implementing the ensemble ResNet model"
   ]
  },
  {
   "cell_type": "code",
   "execution_count": null,
   "metadata": {},
   "outputs": [],
   "source": [
    "models = [resnet_50, resnet_101]"
   ]
  },
  {
   "cell_type": "code",
   "execution_count": null,
   "metadata": {},
   "outputs": [],
   "source": [
    "from keras.models import Model, Input\n",
    "from keras.layers import Average\n",
    "from keras.engine import training\n",
    "from typing import Tuple, List"
   ]
  },
  {
   "cell_type": "code",
   "execution_count": null,
   "metadata": {},
   "outputs": [],
   "source": [
    "def ensemble(models: List [training.Model]) -> training.Model:\n",
    "    outputs = [model.outputs[0] for model in models]\n",
    "    y = Average()(outputs)\n",
    "    model = Model(Input(shape=(128, 128, 1)), y, name='ensemble_resnet')\n",
    "    return model"
   ]
  },
  {
   "cell_type": "code",
   "execution_count": null,
   "metadata": {},
   "outputs": [],
   "source": [
    "# ensemble_model = ensemble(models)\n",
    "\n",
    "# ValueError: Graph disconnected: cannot obtain value for tensor Tensor(\"input_6:0\", shape=(?, 128, 128, 1), dtype=float32) at layer \"input_6\". The following previous layers were accessed without issue: []"
   ]
  },
  {
   "cell_type": "code",
   "execution_count": null,
   "metadata": {},
   "outputs": [],
   "source": [
    "# resnet_50.outputs[0]\n",
    "# resnet_50.outputs[0][21]\n",
    "# ensemble_model.save('models/my_ensemble_resNet.h5')"
   ]
  },
  {
   "cell_type": "code",
   "execution_count": null,
   "metadata": {},
   "outputs": [],
   "source": []
  },
  {
   "cell_type": "code",
   "execution_count": null,
   "metadata": {},
   "outputs": [],
   "source": []
  },
  {
   "cell_type": "code",
   "execution_count": null,
   "metadata": {},
   "outputs": [],
   "source": []
  },
  {
   "cell_type": "code",
   "execution_count": null,
   "metadata": {},
   "outputs": [],
   "source": []
  },
  {
   "cell_type": "code",
   "execution_count": null,
   "metadata": {},
   "outputs": [],
   "source": []
  },
  {
   "cell_type": "code",
   "execution_count": null,
   "metadata": {},
   "outputs": [],
   "source": []
  },
  {
   "cell_type": "code",
   "execution_count": null,
   "metadata": {},
   "outputs": [],
   "source": []
  },
  {
   "cell_type": "code",
   "execution_count": null,
   "metadata": {},
   "outputs": [],
   "source": []
  }
 ],
 "metadata": {
  "kernelspec": {
   "display_name": "Python 3",
   "language": "python",
   "name": "python3"
  },
  "language_info": {
   "codemirror_mode": {
    "name": "ipython",
    "version": 3
   },
   "file_extension": ".py",
   "mimetype": "text/x-python",
   "name": "python",
   "nbconvert_exporter": "python",
   "pygments_lexer": "ipython3",
   "version": "3.6.9"
  }
 },
 "nbformat": 4,
 "nbformat_minor": 2
}
